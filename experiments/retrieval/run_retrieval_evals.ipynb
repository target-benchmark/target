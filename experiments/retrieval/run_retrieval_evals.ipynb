{
 "cells": [
  {
   "cell_type": "code",
   "execution_count": 1,
   "metadata": {},
   "outputs": [
    {
     "name": "stderr",
     "output_type": "stream",
     "text": [
      "2024-09-18 17:46:06.866751: I external/local_tsl/tsl/cuda/cudart_stub.cc:32] Could not find cuda drivers on your machine, GPU will not be used.\n",
      "2024-09-18 17:46:06.870531: I external/local_tsl/tsl/cuda/cudart_stub.cc:32] Could not find cuda drivers on your machine, GPU will not be used.\n",
      "2024-09-18 17:46:06.923188: I tensorflow/core/platform/cpu_feature_guard.cc:210] This TensorFlow binary is optimized to use available CPU instructions in performance-critical operations.\n",
      "To enable the following instructions: AVX2 FMA, in other operations, rebuild TensorFlow with the appropriate compiler flags.\n",
      "2024-09-18 17:46:08.110948: W tensorflow/compiler/tf2tensorrt/utils/py_utils.cc:38] TF-TRT Warning: Could not find TensorRT\n"
     ]
    }
   ],
   "source": [
    "from target_benchmark.evaluators import TARGET, get_task_names\n",
    "target_fetaqa = TARGET((\"Table Retrieval Task\", \"fetaqa\"))\n",
    "target_ottqa = TARGET((\"Table Retrieval Task\", \"ottqa\"))\n",
    "target_tabfact = TARGET((\"Table Retrieval Task\", \"tabfact\"))\n",
    "target_spider = TARGET((\"Table Retrieval Task\", \"spider-test\"))\n",
    "target_bird = TARGET((\"Table Retrieval Task\", \"bird-validation\"))\n",
    "target_infiagentda = TARGET((\"Table Retrieval Task\", \"infiagentda\"))"
   ]
  },
  {
   "cell_type": "code",
   "execution_count": 2,
   "metadata": {},
   "outputs": [],
   "source": [
    "top_ks = [1, 5, 10, 25, 50]"
   ]
  },
  {
   "cell_type": "code",
   "execution_count": 3,
   "metadata": {},
   "outputs": [],
   "source": [
    "def run_eval_for_top_ks(retriever, retriever_name: str, top_ks: list[int], target: TARGET, dataset_name: str, split: str):\n",
    "    results = []\n",
    "    for top_k in top_ks:\n",
    "        performance = target.run(retriever=retriever, split=split, batch_size=100, top_k=top_k, retrieval_results_file=f\"./{retriever_name}/{dataset_name}_{top_k}.jsonl\")\n",
    "        results.append(performance)\n",
    "        print(performance)\n",
    "    return results\n",
    "    "
   ]
  },
  {
   "cell_type": "markdown",
   "metadata": {},
   "source": [
    "# Llamaindex (Done)"
   ]
  },
  {
   "cell_type": "code",
   "execution_count": 8,
   "metadata": {},
   "outputs": [],
   "source": [
    "from target_benchmark.retrievers import LlamaIndexRetriever\n",
    "llamaindex_retriever = LlamaIndexRetriever()"
   ]
  },
  {
   "cell_type": "code",
   "execution_count": null,
   "metadata": {},
   "outputs": [],
   "source": [
    "# fetaqa test\n",
    "llamaindex_results_fetaqa_test = run_eval_for_top_ks(llamaindex_retriever, \"llamaindex\",top_ks, target_fetaqa, \"fetaqa\", \"test\")"
   ]
  },
  {
   "cell_type": "code",
   "execution_count": 6,
   "metadata": {},
   "outputs": [
    {
     "data": {
      "text/plain": [
       "[{'Table Retrieval Task': {'fetaqa': TaskResultsDataModel(retrieval_performance=RetrievalPerformanceDataModel(k=1, accuracy=0.2381427858212681, precision=None, recall=None, retrieval_time=405.29509, avg_retrieval_time=0.20234), downstream_task_performance=DownstreamTaskPerformanceDataModel(task_name=None, scores=None), embedding_statistics=EmbeddingStatisticsDataModel(embedding_creation_duration=152.35639, avg_embedding_creation_duration=0.07606, embedding_size=8.53197, avg_embedding_size=0.00426))}},\n",
       " {'Table Retrieval Task': {'fetaqa': TaskResultsDataModel(retrieval_performance=RetrievalPerformanceDataModel(k=5, accuracy=0.37993010484273587, precision=None, recall=None, retrieval_time=429.66376, avg_retrieval_time=0.21451), downstream_task_performance=DownstreamTaskPerformanceDataModel(task_name=None, scores=None), embedding_statistics=EmbeddingStatisticsDataModel(embedding_creation_duration=20.32173, avg_embedding_creation_duration=0.01015, embedding_size=0.0, avg_embedding_size=0.0))}},\n",
       " {'Table Retrieval Task': {'fetaqa': TaskResultsDataModel(retrieval_performance=RetrievalPerformanceDataModel(k=10, accuracy=0.436345481777334, precision=None, recall=None, retrieval_time=412.36555, avg_retrieval_time=0.20587), downstream_task_performance=DownstreamTaskPerformanceDataModel(task_name=None, scores=None), embedding_statistics=EmbeddingStatisticsDataModel(embedding_creation_duration=20.23989, avg_embedding_creation_duration=0.0101, embedding_size=0.0, avg_embedding_size=0.0))}},\n",
       " {'Table Retrieval Task': {'fetaqa': TaskResultsDataModel(retrieval_performance=RetrievalPerformanceDataModel(k=25, accuracy=0.545681477783325, precision=None, recall=None, retrieval_time=413.68584, avg_retrieval_time=0.20653), downstream_task_performance=DownstreamTaskPerformanceDataModel(task_name=None, scores=None), embedding_statistics=EmbeddingStatisticsDataModel(embedding_creation_duration=20.08907, avg_embedding_creation_duration=0.01003, embedding_size=0.0041, avg_embedding_size=0.0))}},\n",
       " {'Table Retrieval Task': {'fetaqa': TaskResultsDataModel(retrieval_performance=RetrievalPerformanceDataModel(k=50, accuracy=0.6230654018971543, precision=None, recall=None, retrieval_time=418.37355, avg_retrieval_time=0.20887), downstream_task_performance=DownstreamTaskPerformanceDataModel(task_name=None, scores=None), embedding_statistics=EmbeddingStatisticsDataModel(embedding_creation_duration=20.56766, avg_embedding_creation_duration=0.01027, embedding_size=0.0041, avg_embedding_size=0.0))}}]"
      ]
     },
     "execution_count": 6,
     "metadata": {},
     "output_type": "execute_result"
    }
   ],
   "source": [
    "llamaindex_results_fetaqa_test"
   ]
  },
  {
   "cell_type": "code",
   "execution_count": null,
   "metadata": {},
   "outputs": [],
   "source": [
    "# ottqa\n",
    "llamaindex_retriever_results_ottqa_val = run_eval_for_top_ks(llamaindex_retriever, \"llamaindex\",top_ks, target_ottqa, \"ottqa\", \"validation\")"
   ]
  },
  {
   "cell_type": "code",
   "execution_count": 11,
   "metadata": {},
   "outputs": [
    {
     "data": {
      "text/plain": [
       "[{'Table Retrieval Task': {'ottqa': TaskResultsDataModel(retrieval_performance=RetrievalPerformanceDataModel(k=1, accuracy=0.498193315266486, precision=None, recall=None, retrieval_time=183.93012, avg_retrieval_time=0.08308), downstream_task_performance=DownstreamTaskPerformanceDataModel(task_name=None, scores=None), embedding_statistics=EmbeddingStatisticsDataModel(embedding_creation_duration=33.0656, avg_embedding_creation_duration=0.04191, embedding_size=7.13933, avg_embedding_size=0.00905))}},\n",
       " {'Table Retrieval Task': {'ottqa': TaskResultsDataModel(retrieval_performance=RetrievalPerformanceDataModel(k=5, accuracy=0.7335140018066847, precision=None, recall=None, retrieval_time=205.72068, avg_retrieval_time=0.09292), downstream_task_performance=DownstreamTaskPerformanceDataModel(task_name=None, scores=None), embedding_statistics=EmbeddingStatisticsDataModel(embedding_creation_duration=6.65169, avg_embedding_creation_duration=0.00843, embedding_size=0.0, avg_embedding_size=0.0))}},\n",
       " {'Table Retrieval Task': {'ottqa': TaskResultsDataModel(retrieval_performance=RetrievalPerformanceDataModel(k=10, accuracy=0.8206865401987353, precision=None, recall=None, retrieval_time=189.23705, avg_retrieval_time=0.08547), downstream_task_performance=DownstreamTaskPerformanceDataModel(task_name=None, scores=None), embedding_statistics=EmbeddingStatisticsDataModel(embedding_creation_duration=6.62422, avg_embedding_creation_duration=0.0084, embedding_size=0.0041, avg_embedding_size=1e-05))}},\n",
       " {'Table Retrieval Task': {'ottqa': TaskResultsDataModel(retrieval_performance=RetrievalPerformanceDataModel(k=25, accuracy=0.9019873532068654, precision=None, recall=None, retrieval_time=191.48488, avg_retrieval_time=0.08649), downstream_task_performance=DownstreamTaskPerformanceDataModel(task_name=None, scores=None), embedding_statistics=EmbeddingStatisticsDataModel(embedding_creation_duration=6.26533, avg_embedding_creation_duration=0.00794, embedding_size=0.0, avg_embedding_size=0.0))}},\n",
       " {'Table Retrieval Task': {'ottqa': TaskResultsDataModel(retrieval_performance=RetrievalPerformanceDataModel(k=50, accuracy=0.948509485094851, precision=None, recall=None, retrieval_time=194.59505, avg_retrieval_time=0.08789), downstream_task_performance=DownstreamTaskPerformanceDataModel(task_name=None, scores=None), embedding_statistics=EmbeddingStatisticsDataModel(embedding_creation_duration=6.21754, avg_embedding_creation_duration=0.00788, embedding_size=0.0, avg_embedding_size=0.0))}}]"
      ]
     },
     "execution_count": 11,
     "metadata": {},
     "output_type": "execute_result"
    }
   ],
   "source": [
    "llamaindex_retriever_results_ottqa_val"
   ]
  },
  {
   "cell_type": "code",
   "execution_count": null,
   "metadata": {},
   "outputs": [],
   "source": [
    "# tabfact\n",
    "llamaindex_retriever_results_tabfact_test = run_eval_for_top_ks(llamaindex_retriever, \"llamaindex\",top_ks, target_tabfact, \"tabfact\", \"test\")"
   ]
  },
  {
   "cell_type": "code",
   "execution_count": 7,
   "metadata": {},
   "outputs": [
    {
     "data": {
      "text/plain": [
       "[{'Table Retrieval Task': {'tabfact': TaskResultsDataModel(retrieval_performance=RetrievalPerformanceDataModel(k=1, accuracy=0.20893653650520386, precision=None, recall=None, retrieval_time=2229.16026, avg_retrieval_time=0.17444), downstream_task_performance=DownstreamTaskPerformanceDataModel(task_name=None, scores=None), embedding_statistics=EmbeddingStatisticsDataModel(embedding_creation_duration=130.40129, avg_embedding_creation_duration=0.07693, embedding_size=14.50803, avg_embedding_size=0.00856))}},\n",
       " {'Table Retrieval Task': {'tabfact': TaskResultsDataModel(retrieval_performance=RetrievalPerformanceDataModel(k=5, accuracy=0.3801549417012286, precision=None, recall=None, retrieval_time=2271.32262, avg_retrieval_time=0.17774), downstream_task_performance=DownstreamTaskPerformanceDataModel(task_name=None, scores=None), embedding_statistics=EmbeddingStatisticsDataModel(embedding_creation_duration=15.38721, avg_embedding_creation_duration=0.00908, embedding_size=0.0, avg_embedding_size=0.0))}},\n",
       " {'Table Retrieval Task': {'tabfact': TaskResultsDataModel(retrieval_performance=RetrievalPerformanceDataModel(k=10, accuracy=0.4692072932154316, precision=None, recall=None, retrieval_time=2278.1252, avg_retrieval_time=0.17827), downstream_task_performance=DownstreamTaskPerformanceDataModel(task_name=None, scores=None), embedding_statistics=EmbeddingStatisticsDataModel(embedding_creation_duration=15.70132, avg_embedding_creation_duration=0.00926, embedding_size=0.01229, avg_embedding_size=1e-05))}},\n",
       " {'Table Retrieval Task': {'tabfact': TaskResultsDataModel(retrieval_performance=RetrievalPerformanceDataModel(k=25, accuracy=0.5949604820408483, precision=None, recall=None, retrieval_time=2301.45407, avg_retrieval_time=0.1801), downstream_task_performance=DownstreamTaskPerformanceDataModel(task_name=None, scores=None), embedding_statistics=EmbeddingStatisticsDataModel(embedding_creation_duration=14.91744, avg_embedding_creation_duration=0.0088, embedding_size=0.0, avg_embedding_size=0.0))}},\n",
       " {'Table Retrieval Task': {'tabfact': TaskResultsDataModel(retrieval_performance=RetrievalPerformanceDataModel(k=50, accuracy=0.7024806322873465, precision=None, recall=None, retrieval_time=2305.25449, avg_retrieval_time=0.18039), downstream_task_performance=DownstreamTaskPerformanceDataModel(task_name=None, scores=None), embedding_statistics=EmbeddingStatisticsDataModel(embedding_creation_duration=15.64626, avg_embedding_creation_duration=0.00923, embedding_size=0.0041, avg_embedding_size=0.0))}}]"
      ]
     },
     "execution_count": 7,
     "metadata": {},
     "output_type": "execute_result"
    }
   ],
   "source": [
    "llamaindex_retriever_results_tabfact_test"
   ]
  },
  {
   "cell_type": "code",
   "execution_count": null,
   "metadata": {},
   "outputs": [],
   "source": [
    "# spider\n",
    "llamaindex_retriever_results_spider_test = run_eval_for_top_ks(llamaindex_retriever, \"llamaindex\",top_ks, target_spider, \"spider\", \"test\")"
   ]
  },
  {
   "cell_type": "code",
   "execution_count": 9,
   "metadata": {},
   "outputs": [
    {
     "data": {
      "text/plain": [
       "[{'Table Retrieval Task': {'spider-test': TaskResultsDataModel(retrieval_performance=RetrievalPerformanceDataModel(k=1, accuracy=0.7414997671169073, precision=None, recall=None, retrieval_time=52.92199, avg_retrieval_time=0.02465), downstream_task_performance=DownstreamTaskPerformanceDataModel(task_name=None, scores=None), embedding_statistics=EmbeddingStatisticsDataModel(embedding_creation_duration=4.45271, avg_embedding_creation_duration=0.02474, embedding_size=1.67117, avg_embedding_size=0.00928))}},\n",
       " {'Table Retrieval Task': {'spider-test': TaskResultsDataModel(retrieval_performance=RetrievalPerformanceDataModel(k=5, accuracy=0.9436422915696321, precision=None, recall=None, retrieval_time=52.83807, avg_retrieval_time=0.02461), downstream_task_performance=DownstreamTaskPerformanceDataModel(task_name=None, scores=None), embedding_statistics=EmbeddingStatisticsDataModel(embedding_creation_duration=1.30946, avg_embedding_creation_duration=0.00727, embedding_size=0.0, avg_embedding_size=0.0))}},\n",
       " {'Table Retrieval Task': {'spider-test': TaskResultsDataModel(retrieval_performance=RetrievalPerformanceDataModel(k=10, accuracy=0.9711224965067536, precision=None, recall=None, retrieval_time=70.40954, avg_retrieval_time=0.03279), downstream_task_performance=DownstreamTaskPerformanceDataModel(task_name=None, scores=None), embedding_statistics=EmbeddingStatisticsDataModel(embedding_creation_duration=1.27806, avg_embedding_creation_duration=0.0071, embedding_size=0.0, avg_embedding_size=0.0))}},\n",
       " {'Table Retrieval Task': {'spider-test': TaskResultsDataModel(retrieval_performance=RetrievalPerformanceDataModel(k=25, accuracy=0.9888216115510013, precision=None, recall=None, retrieval_time=55.35131, avg_retrieval_time=0.02578), downstream_task_performance=DownstreamTaskPerformanceDataModel(task_name=None, scores=None), embedding_statistics=EmbeddingStatisticsDataModel(embedding_creation_duration=1.29194, avg_embedding_creation_duration=0.00718, embedding_size=0.0, avg_embedding_size=0.0))}},\n",
       " {'Table Retrieval Task': {'spider-test': TaskResultsDataModel(retrieval_performance=RetrievalPerformanceDataModel(k=50, accuracy=0.9967396367023754, precision=None, recall=None, retrieval_time=59.54303, avg_retrieval_time=0.02773), downstream_task_performance=DownstreamTaskPerformanceDataModel(task_name=None, scores=None), embedding_statistics=EmbeddingStatisticsDataModel(embedding_creation_duration=1.31658, avg_embedding_creation_duration=0.00731, embedding_size=0.0, avg_embedding_size=0.0))}}]"
      ]
     },
     "execution_count": 9,
     "metadata": {},
     "output_type": "execute_result"
    }
   ],
   "source": [
    "llamaindex_retriever_results_spider_test"
   ]
  },
  {
   "cell_type": "code",
   "execution_count": null,
   "metadata": {},
   "outputs": [],
   "source": [
    "# bird\n",
    "llamaindex_retriever_results_bird_validation = run_eval_for_top_ks(llamaindex_retriever, \"llamaindex\", top_ks, target_bird, \"bird\", \"validation\")"
   ]
  },
  {
   "cell_type": "code",
   "execution_count": 11,
   "metadata": {},
   "outputs": [
    {
     "data": {
      "text/plain": [
       "[{'Table Retrieval Task': {'bird-validation': TaskResultsDataModel(retrieval_performance=RetrievalPerformanceDataModel(k=1, accuracy=0.9485006518904824, precision=None, recall=None, retrieval_time=21.72289, avg_retrieval_time=0.01416), downstream_task_performance=DownstreamTaskPerformanceDataModel(task_name=None, scores=None), embedding_statistics=EmbeddingStatisticsDataModel(embedding_creation_duration=6.92583, avg_embedding_creation_duration=0.09234, embedding_size=0.04915, avg_embedding_size=0.00066))}},\n",
       " {'Table Retrieval Task': {'bird-validation': TaskResultsDataModel(retrieval_performance=RetrievalPerformanceDataModel(k=5, accuracy=0.9915254237288136, precision=None, recall=None, retrieval_time=22.50523, avg_retrieval_time=0.01467), downstream_task_performance=DownstreamTaskPerformanceDataModel(task_name=None, scores=None), embedding_statistics=EmbeddingStatisticsDataModel(embedding_creation_duration=6.9244, avg_embedding_creation_duration=0.09233, embedding_size=0.0041, avg_embedding_size=5e-05))}},\n",
       " {'Table Retrieval Task': {'bird-validation': TaskResultsDataModel(retrieval_performance=RetrievalPerformanceDataModel(k=10, accuracy=0.9973924380704041, precision=None, recall=None, retrieval_time=36.25858, avg_retrieval_time=0.02364), downstream_task_performance=DownstreamTaskPerformanceDataModel(task_name=None, scores=None), embedding_statistics=EmbeddingStatisticsDataModel(embedding_creation_duration=6.80067, avg_embedding_creation_duration=0.09068, embedding_size=0.0041, avg_embedding_size=5e-05))}},\n",
       " {'Table Retrieval Task': {'bird-validation': TaskResultsDataModel(retrieval_performance=RetrievalPerformanceDataModel(k=25, accuracy=1.0, precision=None, recall=None, retrieval_time=24.2084, avg_retrieval_time=0.01578), downstream_task_performance=DownstreamTaskPerformanceDataModel(task_name=None, scores=None), embedding_statistics=EmbeddingStatisticsDataModel(embedding_creation_duration=6.74689, avg_embedding_creation_duration=0.08996, embedding_size=0.0, avg_embedding_size=0.0))}},\n",
       " {'Table Retrieval Task': {'bird-validation': TaskResultsDataModel(retrieval_performance=RetrievalPerformanceDataModel(k=50, accuracy=1.0, precision=None, recall=None, retrieval_time=26.21474, avg_retrieval_time=0.01709), downstream_task_performance=DownstreamTaskPerformanceDataModel(task_name=None, scores=None), embedding_statistics=EmbeddingStatisticsDataModel(embedding_creation_duration=6.81597, avg_embedding_creation_duration=0.09088, embedding_size=0.0, avg_embedding_size=0.0))}}]"
      ]
     },
     "execution_count": 11,
     "metadata": {},
     "output_type": "execute_result"
    }
   ],
   "source": [
    "llamaindex_retriever_results_bird_validation"
   ]
  },
  {
   "cell_type": "markdown",
   "metadata": {},
   "source": [
    "# OTTQA bm25 with Title (Done)"
   ]
  },
  {
   "cell_type": "code",
   "execution_count": 4,
   "metadata": {},
   "outputs": [],
   "source": [
    "from target_benchmark.retrievers import OTTQARetriever\n",
    "bm25_with_title = OTTQARetriever(encoding=\"bm25\", withtitle=True)"
   ]
  },
  {
   "cell_type": "code",
   "execution_count": null,
   "metadata": {},
   "outputs": [],
   "source": [
    "# fetaqa\n",
    "bm25_with_title_results_fetaqa_test = run_eval_for_top_ks(bm25_with_title, \"bm25_with_title\",top_ks, target_fetaqa, \"fetaqa\", \"test\")"
   ]
  },
  {
   "cell_type": "code",
   "execution_count": 6,
   "metadata": {},
   "outputs": [
    {
     "data": {
      "text/plain": [
       "[{'Table Retrieval Task': {'fetaqa': TaskResultsDataModel(retrieval_performance=RetrievalPerformanceDataModel(k=1, accuracy=0.02895656515227159, precision=None, recall=None, retrieval_time=1.72716, avg_retrieval_time=0.00086), downstream_task_performance=DownstreamTaskPerformanceDataModel(task_name=None, scores=None), embedding_statistics=EmbeddingStatisticsDataModel(embedding_creation_duration=4.27167, avg_embedding_creation_duration=0.00213, embedding_size=0.22528, avg_embedding_size=0.00011))}},\n",
       " {'Table Retrieval Task': {'fetaqa': TaskResultsDataModel(retrieval_performance=RetrievalPerformanceDataModel(k=5, accuracy=0.06090863704443335, precision=None, recall=None, retrieval_time=1.38747, avg_retrieval_time=0.00069), downstream_task_performance=DownstreamTaskPerformanceDataModel(task_name=None, scores=None), embedding_statistics=EmbeddingStatisticsDataModel(embedding_creation_duration=4.26014, avg_embedding_creation_duration=0.00213, embedding_size=0.0041, avg_embedding_size=0.0))}},\n",
       " {'Table Retrieval Task': {'fetaqa': TaskResultsDataModel(retrieval_performance=RetrievalPerformanceDataModel(k=10, accuracy=0.08237643534697953, precision=None, recall=None, retrieval_time=1.48291, avg_retrieval_time=0.00074), downstream_task_performance=DownstreamTaskPerformanceDataModel(task_name=None, scores=None), embedding_statistics=EmbeddingStatisticsDataModel(embedding_creation_duration=4.23291, avg_embedding_creation_duration=0.00211, embedding_size=0.00819, avg_embedding_size=0.0))}},\n",
       " {'Table Retrieval Task': {'fetaqa': TaskResultsDataModel(retrieval_performance=RetrievalPerformanceDataModel(k=25, accuracy=0.13030454318522217, precision=None, recall=None, retrieval_time=1.62243, avg_retrieval_time=0.00081), downstream_task_performance=DownstreamTaskPerformanceDataModel(task_name=None, scores=None), embedding_statistics=EmbeddingStatisticsDataModel(embedding_creation_duration=4.31014, avg_embedding_creation_duration=0.00215, embedding_size=0.0041, avg_embedding_size=0.0))}},\n",
       " {'Table Retrieval Task': {'fetaqa': TaskResultsDataModel(retrieval_performance=RetrievalPerformanceDataModel(k=50, accuracy=0.18172740888667, precision=None, recall=None, retrieval_time=1.78534, avg_retrieval_time=0.00089), downstream_task_performance=DownstreamTaskPerformanceDataModel(task_name=None, scores=None), embedding_statistics=EmbeddingStatisticsDataModel(embedding_creation_duration=4.26671, avg_embedding_creation_duration=0.00213, embedding_size=0.00819, avg_embedding_size=0.0))}}]"
      ]
     },
     "execution_count": 6,
     "metadata": {},
     "output_type": "execute_result"
    }
   ],
   "source": [
    "bm25_with_title_results_fetaqa_test"
   ]
  },
  {
   "cell_type": "code",
   "execution_count": null,
   "metadata": {},
   "outputs": [],
   "source": [
    "# ottqa\n",
    "bm25_with_title_results_ottqa_val = run_eval_for_top_ks(bm25_with_title, \"bm25_with_title\",top_ks, target_ottqa, \"ottqa\", \"validation\")"
   ]
  },
  {
   "cell_type": "code",
   "execution_count": 8,
   "metadata": {},
   "outputs": [
    {
     "data": {
      "text/plain": [
       "[{'Table Retrieval Task': {'ottqa': TaskResultsDataModel(retrieval_performance=RetrievalPerformanceDataModel(k=1, accuracy=0.7389340560072267, precision=None, recall=None, retrieval_time=1.7545, avg_retrieval_time=0.00079), downstream_task_performance=DownstreamTaskPerformanceDataModel(task_name=None, scores=None), embedding_statistics=EmbeddingStatisticsDataModel(embedding_creation_duration=3.51262, avg_embedding_creation_duration=0.00445, embedding_size=-0.70451, avg_embedding_size=-0.00089))}},\n",
       " {'Table Retrieval Task': {'ottqa': TaskResultsDataModel(retrieval_performance=RetrievalPerformanceDataModel(k=5, accuracy=0.9155374887082204, precision=None, recall=None, retrieval_time=1.87847, avg_retrieval_time=0.00085), downstream_task_performance=DownstreamTaskPerformanceDataModel(task_name=None, scores=None), embedding_statistics=EmbeddingStatisticsDataModel(embedding_creation_duration=3.48722, avg_embedding_creation_duration=0.00442, embedding_size=0.00819, avg_embedding_size=1e-05))}},\n",
       " {'Table Retrieval Task': {'ottqa': TaskResultsDataModel(retrieval_performance=RetrievalPerformanceDataModel(k=10, accuracy=0.9552845528455285, precision=None, recall=None, retrieval_time=2.03291, avg_retrieval_time=0.00092), downstream_task_performance=DownstreamTaskPerformanceDataModel(task_name=None, scores=None), embedding_statistics=EmbeddingStatisticsDataModel(embedding_creation_duration=3.48971, avg_embedding_creation_duration=0.00442, embedding_size=0.00819, avg_embedding_size=1e-05))}},\n",
       " {'Table Retrieval Task': {'ottqa': TaskResultsDataModel(retrieval_performance=RetrievalPerformanceDataModel(k=25, accuracy=0.971996386630533, precision=None, recall=None, retrieval_time=2.39444, avg_retrieval_time=0.00108), downstream_task_performance=DownstreamTaskPerformanceDataModel(task_name=None, scores=None), embedding_statistics=EmbeddingStatisticsDataModel(embedding_creation_duration=3.50718, avg_embedding_creation_duration=0.00445, embedding_size=0.00819, avg_embedding_size=1e-05))}},\n",
       " {'Table Retrieval Task': {'ottqa': TaskResultsDataModel(retrieval_performance=RetrievalPerformanceDataModel(k=50, accuracy=0.9778681120144534, precision=None, recall=None, retrieval_time=2.86432, avg_retrieval_time=0.00129), downstream_task_performance=DownstreamTaskPerformanceDataModel(task_name=None, scores=None), embedding_statistics=EmbeddingStatisticsDataModel(embedding_creation_duration=3.50233, avg_embedding_creation_duration=0.00444, embedding_size=0.0041, avg_embedding_size=1e-05))}}]"
      ]
     },
     "execution_count": 8,
     "metadata": {},
     "output_type": "execute_result"
    }
   ],
   "source": [
    "bm25_with_title_results_ottqa_val"
   ]
  },
  {
   "cell_type": "code",
   "execution_count": null,
   "metadata": {},
   "outputs": [],
   "source": [
    "# tabfact\n",
    "bm25_with_title_results_tabfact_test = run_eval_for_top_ks(bm25_with_title, \"bm25_with_title\",top_ks, target_tabfact, \"tabfact\", \"test\")"
   ]
  },
  {
   "cell_type": "code",
   "execution_count": 10,
   "metadata": {},
   "outputs": [
    {
     "data": {
      "text/plain": [
       "[{'Table Retrieval Task': {'tabfact': TaskResultsDataModel(retrieval_performance=RetrievalPerformanceDataModel(k=1, accuracy=0.14719461616714924, precision=None, recall=None, retrieval_time=8.62096, avg_retrieval_time=0.00067), downstream_task_performance=DownstreamTaskPerformanceDataModel(task_name=None, scores=None), embedding_statistics=EmbeddingStatisticsDataModel(embedding_creation_duration=4.08682, avg_embedding_creation_duration=0.00241, embedding_size=0.49152, avg_embedding_size=0.00029))}},\n",
       " {'Table Retrieval Task': {'tabfact': TaskResultsDataModel(retrieval_performance=RetrievalPerformanceDataModel(k=5, accuracy=0.27341732529931917, precision=None, recall=None, retrieval_time=9.61268, avg_retrieval_time=0.00075), downstream_task_performance=DownstreamTaskPerformanceDataModel(task_name=None, scores=None), embedding_statistics=EmbeddingStatisticsDataModel(embedding_creation_duration=4.04633, avg_embedding_creation_duration=0.00239, embedding_size=0.00819, avg_embedding_size=0.0))}},\n",
       " {'Table Retrieval Task': {'tabfact': TaskResultsDataModel(retrieval_performance=RetrievalPerformanceDataModel(k=10, accuracy=0.33813287424681115, precision=None, recall=None, retrieval_time=9.77552, avg_retrieval_time=0.00076), downstream_task_performance=DownstreamTaskPerformanceDataModel(task_name=None, scores=None), embedding_statistics=EmbeddingStatisticsDataModel(embedding_creation_duration=4.03266, avg_embedding_creation_duration=0.00238, embedding_size=0.0041, avg_embedding_size=0.0))}},\n",
       " {'Table Retrieval Task': {'tabfact': TaskResultsDataModel(retrieval_performance=RetrievalPerformanceDataModel(k=25, accuracy=0.4433836763440019, precision=None, recall=None, retrieval_time=12.30078, avg_retrieval_time=0.00096), downstream_task_performance=DownstreamTaskPerformanceDataModel(task_name=None, scores=None), embedding_statistics=EmbeddingStatisticsDataModel(embedding_creation_duration=4.05565, avg_embedding_creation_duration=0.00239, embedding_size=0.0041, avg_embedding_size=0.0))}},\n",
       " {'Table Retrieval Task': {'tabfact': TaskResultsDataModel(retrieval_performance=RetrievalPerformanceDataModel(k=50, accuracy=0.536818217387902, precision=None, recall=None, retrieval_time=14.68424, avg_retrieval_time=0.00115), downstream_task_performance=DownstreamTaskPerformanceDataModel(task_name=None, scores=None), embedding_statistics=EmbeddingStatisticsDataModel(embedding_creation_duration=4.05256, avg_embedding_creation_duration=0.00239, embedding_size=0.0041, avg_embedding_size=0.0))}}]"
      ]
     },
     "execution_count": 10,
     "metadata": {},
     "output_type": "execute_result"
    }
   ],
   "source": [
    "bm25_with_title_results_tabfact_test"
   ]
  },
  {
   "cell_type": "code",
   "execution_count": null,
   "metadata": {},
   "outputs": [],
   "source": [
    "# spider\n",
    "bm25_with_title_results_spider_test = run_eval_for_top_ks(bm25_with_title, \"bm25_with_title\",top_ks, target_spider, \"spider\", \"test\")"
   ]
  },
  {
   "cell_type": "code",
   "execution_count": 12,
   "metadata": {},
   "outputs": [
    {
     "data": {
      "text/plain": [
       "[{'Table Retrieval Task': {'spider-test': TaskResultsDataModel(retrieval_performance=RetrievalPerformanceDataModel(k=1, accuracy=0.6348393106660456, precision=None, recall=None, retrieval_time=1.83242, avg_retrieval_time=0.00085), downstream_task_performance=DownstreamTaskPerformanceDataModel(task_name=None, scores=None), embedding_statistics=EmbeddingStatisticsDataModel(embedding_creation_duration=3.79019, avg_embedding_creation_duration=0.02106, embedding_size=8.05683, avg_embedding_size=0.04476))}},\n",
       " {'Table Retrieval Task': {'spider-test': TaskResultsDataModel(retrieval_performance=RetrievalPerformanceDataModel(k=5, accuracy=0.8304611085235212, precision=None, recall=None, retrieval_time=1.42678, avg_retrieval_time=0.00066), downstream_task_performance=DownstreamTaskPerformanceDataModel(task_name=None, scores=None), embedding_statistics=EmbeddingStatisticsDataModel(embedding_creation_duration=3.45637, avg_embedding_creation_duration=0.0192, embedding_size=0.0041, avg_embedding_size=2e-05))}},\n",
       " {'Table Retrieval Task': {'spider-test': TaskResultsDataModel(retrieval_performance=RetrievalPerformanceDataModel(k=10, accuracy=0.8602701443875175, precision=None, recall=None, retrieval_time=1.49957, avg_retrieval_time=0.0007), downstream_task_performance=DownstreamTaskPerformanceDataModel(task_name=None, scores=None), embedding_statistics=EmbeddingStatisticsDataModel(embedding_creation_duration=3.44473, avg_embedding_creation_duration=0.01914, embedding_size=0.00819, avg_embedding_size=5e-05))}},\n",
       " {'Table Retrieval Task': {'spider-test': TaskResultsDataModel(retrieval_performance=RetrievalPerformanceDataModel(k=25, accuracy=0.8737773637633908, precision=None, recall=None, retrieval_time=1.59668, avg_retrieval_time=0.00074), downstream_task_performance=DownstreamTaskPerformanceDataModel(task_name=None, scores=None), embedding_statistics=EmbeddingStatisticsDataModel(embedding_creation_duration=3.42585, avg_embedding_creation_duration=0.01903, embedding_size=0.0041, avg_embedding_size=2e-05))}},\n",
       " {'Table Retrieval Task': {'spider-test': TaskResultsDataModel(retrieval_performance=RetrievalPerformanceDataModel(k=50, accuracy=0.8779692594317653, precision=None, recall=None, retrieval_time=1.71224, avg_retrieval_time=0.0008), downstream_task_performance=DownstreamTaskPerformanceDataModel(task_name=None, scores=None), embedding_statistics=EmbeddingStatisticsDataModel(embedding_creation_duration=3.46258, avg_embedding_creation_duration=0.01924, embedding_size=0.01229, avg_embedding_size=7e-05))}}]"
      ]
     },
     "execution_count": 12,
     "metadata": {},
     "output_type": "execute_result"
    }
   ],
   "source": [
    "bm25_with_title_results_spider_test"
   ]
  },
  {
   "cell_type": "code",
   "execution_count": null,
   "metadata": {},
   "outputs": [],
   "source": [
    "# bird\n",
    "bm25_with_title_results_bird_test = run_eval_for_top_ks(bm25_with_title, \"bm25_with_title\",top_ks, target_bird, \"bird\", \"validation\")"
   ]
  },
  {
   "cell_type": "code",
   "execution_count": null,
   "metadata": {},
   "outputs": [],
   "source": [
    "bm25_with_title_results_bird_test"
   ]
  },
  {
   "cell_type": "markdown",
   "metadata": {},
   "source": [
    "# OTTQA bm25 without Title (Done)"
   ]
  },
  {
   "cell_type": "code",
   "execution_count": 4,
   "metadata": {},
   "outputs": [],
   "source": [
    "from target_benchmark.retrievers import OTTQARetriever\n",
    "bm25_no_title = OTTQARetriever(encoding=\"bm25\", withtitle=False)"
   ]
  },
  {
   "cell_type": "code",
   "execution_count": null,
   "metadata": {},
   "outputs": [],
   "source": [
    "# fetaqa\n",
    "bm25_no_title_results_fetaqa_test = run_eval_for_top_ks(bm25_no_title, \"bm25_no_title\", top_ks, target_fetaqa, \"fetaqa\", \"test\")"
   ]
  },
  {
   "cell_type": "code",
   "execution_count": 6,
   "metadata": {},
   "outputs": [
    {
     "data": {
      "text/plain": [
       "[{'Table Retrieval Task': {'fetaqa': TaskResultsDataModel(retrieval_performance=RetrievalPerformanceDataModel(k=1, accuracy=0.0309535696455317, precision=None, recall=None, retrieval_time=1.35579, avg_retrieval_time=0.00068), downstream_task_performance=DownstreamTaskPerformanceDataModel(task_name=None, scores=None), embedding_statistics=EmbeddingStatisticsDataModel(embedding_creation_duration=4.60578, avg_embedding_creation_duration=0.0023, embedding_size=3.79699, avg_embedding_size=0.0019))}},\n",
       " {'Table Retrieval Task': {'fetaqa': TaskResultsDataModel(retrieval_performance=RetrievalPerformanceDataModel(k=5, accuracy=0.06040938592111832, precision=None, recall=None, retrieval_time=1.41671, avg_retrieval_time=0.00071), downstream_task_performance=DownstreamTaskPerformanceDataModel(task_name=None, scores=None), embedding_statistics=EmbeddingStatisticsDataModel(embedding_creation_duration=4.20734, avg_embedding_creation_duration=0.0021, embedding_size=0.0041, avg_embedding_size=0.0))}},\n",
       " {'Table Retrieval Task': {'fetaqa': TaskResultsDataModel(retrieval_performance=RetrievalPerformanceDataModel(k=10, accuracy=0.08437343984023964, precision=None, recall=None, retrieval_time=1.48984, avg_retrieval_time=0.00074), downstream_task_performance=DownstreamTaskPerformanceDataModel(task_name=None, scores=None), embedding_statistics=EmbeddingStatisticsDataModel(embedding_creation_duration=4.16652, avg_embedding_creation_duration=0.00208, embedding_size=0.0041, avg_embedding_size=0.0))}},\n",
       " {'Table Retrieval Task': {'fetaqa': TaskResultsDataModel(retrieval_performance=RetrievalPerformanceDataModel(k=25, accuracy=0.12830753869196207, precision=None, recall=None, retrieval_time=1.63926, avg_retrieval_time=0.00082), downstream_task_performance=DownstreamTaskPerformanceDataModel(task_name=None, scores=None), embedding_statistics=EmbeddingStatisticsDataModel(embedding_creation_duration=4.20549, avg_embedding_creation_duration=0.0021, embedding_size=0.0041, avg_embedding_size=0.0))}},\n",
       " {'Table Retrieval Task': {'fetaqa': TaskResultsDataModel(retrieval_performance=RetrievalPerformanceDataModel(k=50, accuracy=0.1802296555167249, precision=None, recall=None, retrieval_time=1.87616, avg_retrieval_time=0.00094), downstream_task_performance=DownstreamTaskPerformanceDataModel(task_name=None, scores=None), embedding_statistics=EmbeddingStatisticsDataModel(embedding_creation_duration=4.2412, avg_embedding_creation_duration=0.00212, embedding_size=0.0041, avg_embedding_size=0.0))}}]"
      ]
     },
     "execution_count": 6,
     "metadata": {},
     "output_type": "execute_result"
    }
   ],
   "source": [
    "bm25_no_title_results_fetaqa_test"
   ]
  },
  {
   "cell_type": "code",
   "execution_count": null,
   "metadata": {},
   "outputs": [],
   "source": [
    "# ottqa\n",
    "bm25_no_title_results_ottqa_val = run_eval_for_top_ks(bm25_no_title, \"bm25_no_title\",top_ks, target_ottqa, \"ottqa\", \"validation\")"
   ]
  },
  {
   "cell_type": "code",
   "execution_count": 8,
   "metadata": {},
   "outputs": [
    {
     "data": {
      "text/plain": [
       "[{'Table Retrieval Task': {'ottqa': TaskResultsDataModel(retrieval_performance=RetrievalPerformanceDataModel(k=1, accuracy=0.16305329719963865, precision=None, recall=None, retrieval_time=1.7926, avg_retrieval_time=0.00081), downstream_task_performance=DownstreamTaskPerformanceDataModel(task_name=None, scores=None), embedding_statistics=EmbeddingStatisticsDataModel(embedding_creation_duration=3.5787, avg_embedding_creation_duration=0.00454, embedding_size=0.49562, avg_embedding_size=0.00063))}},\n",
       " {'Table Retrieval Task': {'ottqa': TaskResultsDataModel(retrieval_performance=RetrievalPerformanceDataModel(k=5, accuracy=0.33378500451671184, precision=None, recall=None, retrieval_time=18.89564, avg_retrieval_time=0.00853), downstream_task_performance=DownstreamTaskPerformanceDataModel(task_name=None, scores=None), embedding_statistics=EmbeddingStatisticsDataModel(embedding_creation_duration=4.76645, avg_embedding_creation_duration=0.00604, embedding_size=0.0, avg_embedding_size=0.0))}},\n",
       " {'Table Retrieval Task': {'ottqa': TaskResultsDataModel(retrieval_performance=RetrievalPerformanceDataModel(k=10, accuracy=0.44308943089430897, precision=None, recall=None, retrieval_time=2.06201, avg_retrieval_time=0.00093), downstream_task_performance=DownstreamTaskPerformanceDataModel(task_name=None, scores=None), embedding_statistics=EmbeddingStatisticsDataModel(embedding_creation_duration=3.55678, avg_embedding_creation_duration=0.00451, embedding_size=0.0041, avg_embedding_size=1e-05))}},\n",
       " {'Table Retrieval Task': {'ottqa': TaskResultsDataModel(retrieval_performance=RetrievalPerformanceDataModel(k=25, accuracy=0.5790424570912376, precision=None, recall=None, retrieval_time=2.38705, avg_retrieval_time=0.00108), downstream_task_performance=DownstreamTaskPerformanceDataModel(task_name=None, scores=None), embedding_statistics=EmbeddingStatisticsDataModel(embedding_creation_duration=3.57874, avg_embedding_creation_duration=0.00454, embedding_size=0.0041, avg_embedding_size=1e-05))}},\n",
       " {'Table Retrieval Task': {'ottqa': TaskResultsDataModel(retrieval_performance=RetrievalPerformanceDataModel(k=50, accuracy=0.6495031616982837, precision=None, recall=None, retrieval_time=2.72852, avg_retrieval_time=0.00123), downstream_task_performance=DownstreamTaskPerformanceDataModel(task_name=None, scores=None), embedding_statistics=EmbeddingStatisticsDataModel(embedding_creation_duration=3.51173, avg_embedding_creation_duration=0.00445, embedding_size=0.0041, avg_embedding_size=1e-05))}}]"
      ]
     },
     "execution_count": 8,
     "metadata": {},
     "output_type": "execute_result"
    }
   ],
   "source": [
    "bm25_no_title_results_ottqa_val"
   ]
  },
  {
   "cell_type": "code",
   "execution_count": null,
   "metadata": {},
   "outputs": [],
   "source": [
    "# tabfact\n",
    "bm25_no_title_results_tabfact_test = run_eval_for_top_ks(bm25_no_title, \"bm25_no_title\",top_ks, target_tabfact, \"tabfact\", \"test\")\n"
   ]
  },
  {
   "cell_type": "code",
   "execution_count": 10,
   "metadata": {},
   "outputs": [
    {
     "data": {
      "text/plain": [
       "[{'Table Retrieval Task': {'tabfact': TaskResultsDataModel(retrieval_performance=RetrievalPerformanceDataModel(k=1, accuracy=0.1437514672509586, precision=None, recall=None, retrieval_time=9.60858, avg_retrieval_time=0.00075), downstream_task_performance=DownstreamTaskPerformanceDataModel(task_name=None, scores=None), embedding_statistics=EmbeddingStatisticsDataModel(embedding_creation_duration=4.25029, avg_embedding_creation_duration=0.00251, embedding_size=2.79347, avg_embedding_size=0.00165))}},\n",
       " {'Table Retrieval Task': {'tabfact': TaskResultsDataModel(retrieval_performance=RetrievalPerformanceDataModel(k=5, accuracy=0.2644964394710071, precision=None, recall=None, retrieval_time=9.79116, avg_retrieval_time=0.00077), downstream_task_performance=DownstreamTaskPerformanceDataModel(task_name=None, scores=None), embedding_statistics=EmbeddingStatisticsDataModel(embedding_creation_duration=3.94844, avg_embedding_creation_duration=0.00233, embedding_size=0.0041, avg_embedding_size=0.0))}},\n",
       " {'Table Retrieval Task': {'tabfact': TaskResultsDataModel(retrieval_performance=RetrievalPerformanceDataModel(k=10, accuracy=0.3306205493387589, precision=None, recall=None, retrieval_time=10.01454, avg_retrieval_time=0.00078), downstream_task_performance=DownstreamTaskPerformanceDataModel(task_name=None, scores=None), embedding_statistics=EmbeddingStatisticsDataModel(embedding_creation_duration=3.94086, avg_embedding_creation_duration=0.00232, embedding_size=0.0, avg_embedding_size=0.0))}},\n",
       " {'Table Retrieval Task': {'tabfact': TaskResultsDataModel(retrieval_performance=RetrievalPerformanceDataModel(k=25, accuracy=0.43438453713123093, precision=None, recall=None, retrieval_time=12.54067, avg_retrieval_time=0.00098), downstream_task_performance=DownstreamTaskPerformanceDataModel(task_name=None, scores=None), embedding_statistics=EmbeddingStatisticsDataModel(embedding_creation_duration=4.01103, avg_embedding_creation_duration=0.00237, embedding_size=0.0041, avg_embedding_size=0.0))}},\n",
       " {'Table Retrieval Task': {'tabfact': TaskResultsDataModel(retrieval_performance=RetrievalPerformanceDataModel(k=50, accuracy=0.5280538383285077, precision=None, recall=None, retrieval_time=14.66276, avg_retrieval_time=0.00115), downstream_task_performance=DownstreamTaskPerformanceDataModel(task_name=None, scores=None), embedding_statistics=EmbeddingStatisticsDataModel(embedding_creation_duration=4.00261, avg_embedding_creation_duration=0.00236, embedding_size=0.0041, avg_embedding_size=0.0))}}]"
      ]
     },
     "execution_count": 10,
     "metadata": {},
     "output_type": "execute_result"
    }
   ],
   "source": [
    "bm25_no_title_results_tabfact_test\n"
   ]
  },
  {
   "cell_type": "code",
   "execution_count": null,
   "metadata": {},
   "outputs": [],
   "source": [
    "# spider\n",
    "bm25_no_title_results_spider_test = run_eval_for_top_ks(bm25_no_title, \"bm25_no_title\",top_ks, target_spider, \"spider\", \"test\")"
   ]
  },
  {
   "cell_type": "code",
   "execution_count": 12,
   "metadata": {},
   "outputs": [
    {
     "data": {
      "text/plain": [
       "[{'Table Retrieval Task': {'spider-test': TaskResultsDataModel(retrieval_performance=RetrievalPerformanceDataModel(k=1, accuracy=0.5002328830926874, precision=None, recall=None, retrieval_time=1.87939, avg_retrieval_time=0.00088), downstream_task_performance=DownstreamTaskPerformanceDataModel(task_name=None, scores=None), embedding_statistics=EmbeddingStatisticsDataModel(embedding_creation_duration=3.81108, avg_embedding_creation_duration=0.02117, embedding_size=8.15514, avg_embedding_size=0.04531))}},\n",
       " {'Table Retrieval Task': {'spider-test': TaskResultsDataModel(retrieval_performance=RetrievalPerformanceDataModel(k=5, accuracy=0.6837447601304145, precision=None, recall=None, retrieval_time=1.46325, avg_retrieval_time=0.00068), downstream_task_performance=DownstreamTaskPerformanceDataModel(task_name=None, scores=None), embedding_statistics=EmbeddingStatisticsDataModel(embedding_creation_duration=3.47985, avg_embedding_creation_duration=0.01933, embedding_size=0.0041, avg_embedding_size=2e-05))}},\n",
       " {'Table Retrieval Task': {'spider-test': TaskResultsDataModel(retrieval_performance=RetrievalPerformanceDataModel(k=10, accuracy=0.7238006520726595, precision=None, recall=None, retrieval_time=1.56915, avg_retrieval_time=0.00073), downstream_task_performance=DownstreamTaskPerformanceDataModel(task_name=None, scores=None), embedding_statistics=EmbeddingStatisticsDataModel(embedding_creation_duration=3.50758, avg_embedding_creation_duration=0.01949, embedding_size=0.0, avg_embedding_size=0.0))}},\n",
       " {'Table Retrieval Task': {'spider-test': TaskResultsDataModel(retrieval_performance=RetrievalPerformanceDataModel(k=25, accuracy=0.7480204937121565, precision=None, recall=None, retrieval_time=1.60547, avg_retrieval_time=0.00075), downstream_task_performance=DownstreamTaskPerformanceDataModel(task_name=None, scores=None), embedding_statistics=EmbeddingStatisticsDataModel(embedding_creation_duration=3.47543, avg_embedding_creation_duration=0.01931, embedding_size=0.0041, avg_embedding_size=2e-05))}},\n",
       " {'Table Retrieval Task': {'spider-test': TaskResultsDataModel(retrieval_performance=RetrievalPerformanceDataModel(k=50, accuracy=0.7540754541220307, precision=None, recall=None, retrieval_time=1.72182, avg_retrieval_time=0.0008), downstream_task_performance=DownstreamTaskPerformanceDataModel(task_name=None, scores=None), embedding_statistics=EmbeddingStatisticsDataModel(embedding_creation_duration=3.50565, avg_embedding_creation_duration=0.01948, embedding_size=0.0041, avg_embedding_size=2e-05))}}]"
      ]
     },
     "execution_count": 12,
     "metadata": {},
     "output_type": "execute_result"
    }
   ],
   "source": [
    "bm25_no_title_results_spider_test"
   ]
  },
  {
   "cell_type": "code",
   "execution_count": null,
   "metadata": {},
   "outputs": [],
   "source": [
    "# bird\n",
    "bm25_no_title_results_bird_test = run_eval_for_top_ks(bm25_no_title, \"bm25_no_title\",top_ks, target_bird, \"bird\", \"validation\")"
   ]
  },
  {
   "cell_type": "markdown",
   "metadata": {},
   "source": [
    "# TFIDF with Title (Done)"
   ]
  },
  {
   "cell_type": "code",
   "execution_count": 15,
   "metadata": {},
   "outputs": [],
   "source": [
    "from target_benchmark.retrievers import OTTQARetriever\n",
    "tfidf_with_title = OTTQARetriever(encoding=\"tfidf\", withtitle=True)"
   ]
  },
  {
   "cell_type": "code",
   "execution_count": null,
   "metadata": {},
   "outputs": [],
   "source": [
    "# fetaqa\n",
    "tfidf_with_title_results_fetaqa_test = run_eval_for_top_ks(tfidf_with_title, \"tfidf_with_title\",top_ks, target_fetaqa, \"fetaqa\", \"test\")"
   ]
  },
  {
   "cell_type": "code",
   "execution_count": 17,
   "metadata": {},
   "outputs": [
    {
     "data": {
      "text/plain": [
       "[{'Table Retrieval Task': {'fetaqa': TaskResultsDataModel(retrieval_performance=RetrievalPerformanceDataModel(k=1, accuracy=0.028457314028956564, precision=None, recall=None, retrieval_time=1.2944, avg_retrieval_time=0.00065), downstream_task_performance=DownstreamTaskPerformanceDataModel(task_name=None, scores=None), embedding_statistics=EmbeddingStatisticsDataModel(embedding_creation_duration=4.2983, avg_embedding_creation_duration=0.00215, embedding_size=205.09082, avg_embedding_size=0.10239))}},\n",
       " {'Table Retrieval Task': {'fetaqa': TaskResultsDataModel(retrieval_performance=RetrievalPerformanceDataModel(k=5, accuracy=0.0619071392910634, precision=None, recall=None, retrieval_time=1.42204, avg_retrieval_time=0.00071), downstream_task_performance=DownstreamTaskPerformanceDataModel(task_name=None, scores=None), embedding_statistics=EmbeddingStatisticsDataModel(embedding_creation_duration=4.00293, avg_embedding_creation_duration=0.002, embedding_size=0.0041, avg_embedding_size=0.0))}},\n",
       " {'Table Retrieval Task': {'fetaqa': TaskResultsDataModel(retrieval_performance=RetrievalPerformanceDataModel(k=10, accuracy=0.08287568647029456, precision=None, recall=None, retrieval_time=1.97116, avg_retrieval_time=0.00098), downstream_task_performance=DownstreamTaskPerformanceDataModel(task_name=None, scores=None), embedding_statistics=EmbeddingStatisticsDataModel(embedding_creation_duration=4.05708, avg_embedding_creation_duration=0.00203, embedding_size=0.0041, avg_embedding_size=0.0))}},\n",
       " {'Table Retrieval Task': {'fetaqa': TaskResultsDataModel(retrieval_performance=RetrievalPerformanceDataModel(k=25, accuracy=0.127309036445332, precision=None, recall=None, retrieval_time=1.62127, avg_retrieval_time=0.00081), downstream_task_performance=DownstreamTaskPerformanceDataModel(task_name=None, scores=None), embedding_statistics=EmbeddingStatisticsDataModel(embedding_creation_duration=4.04112, avg_embedding_creation_duration=0.00202, embedding_size=0.00819, avg_embedding_size=0.0))}},\n",
       " {'Table Retrieval Task': {'fetaqa': TaskResultsDataModel(retrieval_performance=RetrievalPerformanceDataModel(k=50, accuracy=0.17324013979031452, precision=None, recall=None, retrieval_time=1.7835, avg_retrieval_time=0.00089), downstream_task_performance=DownstreamTaskPerformanceDataModel(task_name=None, scores=None), embedding_statistics=EmbeddingStatisticsDataModel(embedding_creation_duration=4.05254, avg_embedding_creation_duration=0.00202, embedding_size=0.03277, avg_embedding_size=2e-05))}}]"
      ]
     },
     "execution_count": 17,
     "metadata": {},
     "output_type": "execute_result"
    }
   ],
   "source": [
    "tfidf_with_title_results_fetaqa_test"
   ]
  },
  {
   "cell_type": "code",
   "execution_count": null,
   "metadata": {},
   "outputs": [],
   "source": [
    "# ottqa\n",
    "tfidf_with_title_results_ottqa_val = run_eval_for_top_ks(tfidf_with_title, \"tfidf_with_title\", top_ks, target_ottqa, \"ottqa\", \"validation\")"
   ]
  },
  {
   "cell_type": "code",
   "execution_count": 19,
   "metadata": {},
   "outputs": [
    {
     "data": {
      "text/plain": [
       "[{'Table Retrieval Task': {'ottqa': TaskResultsDataModel(retrieval_performance=RetrievalPerformanceDataModel(k=1, accuracy=0.7276422764227642, precision=None, recall=None, retrieval_time=1.79671, avg_retrieval_time=0.00081), downstream_task_performance=DownstreamTaskPerformanceDataModel(task_name=None, scores=None), embedding_statistics=EmbeddingStatisticsDataModel(embedding_creation_duration=3.4141, avg_embedding_creation_duration=0.00433, embedding_size=0.4096, avg_embedding_size=0.00052))}},\n",
       " {'Table Retrieval Task': {'ottqa': TaskResultsDataModel(retrieval_performance=RetrievalPerformanceDataModel(k=5, accuracy=0.9164408310749774, precision=None, recall=None, retrieval_time=1.88023, avg_retrieval_time=0.00085), downstream_task_performance=DownstreamTaskPerformanceDataModel(task_name=None, scores=None), embedding_statistics=EmbeddingStatisticsDataModel(embedding_creation_duration=3.29093, avg_embedding_creation_duration=0.00417, embedding_size=0.0041, avg_embedding_size=1e-05))}},\n",
       " {'Table Retrieval Task': {'ottqa': TaskResultsDataModel(retrieval_performance=RetrievalPerformanceDataModel(k=10, accuracy=0.950316169828365, precision=None, recall=None, retrieval_time=2.03637, avg_retrieval_time=0.00092), downstream_task_performance=DownstreamTaskPerformanceDataModel(task_name=None, scores=None), embedding_statistics=EmbeddingStatisticsDataModel(embedding_creation_duration=3.30676, avg_embedding_creation_duration=0.00419, embedding_size=0.00819, avg_embedding_size=1e-05))}},\n",
       " {'Table Retrieval Task': {'ottqa': TaskResultsDataModel(retrieval_performance=RetrievalPerformanceDataModel(k=25, accuracy=0.971093044263776, precision=None, recall=None, retrieval_time=2.35148, avg_retrieval_time=0.00106), downstream_task_performance=DownstreamTaskPerformanceDataModel(task_name=None, scores=None), embedding_statistics=EmbeddingStatisticsDataModel(embedding_creation_duration=3.32499, avg_embedding_creation_duration=0.00421, embedding_size=0.0041, avg_embedding_size=1e-05))}},\n",
       " {'Table Retrieval Task': {'ottqa': TaskResultsDataModel(retrieval_performance=RetrievalPerformanceDataModel(k=50, accuracy=0.978319783197832, precision=None, recall=None, retrieval_time=2.81705, avg_retrieval_time=0.00127), downstream_task_performance=DownstreamTaskPerformanceDataModel(task_name=None, scores=None), embedding_statistics=EmbeddingStatisticsDataModel(embedding_creation_duration=3.31321, avg_embedding_creation_duration=0.0042, embedding_size=0.0041, avg_embedding_size=1e-05))}}]"
      ]
     },
     "execution_count": 19,
     "metadata": {},
     "output_type": "execute_result"
    }
   ],
   "source": [
    "tfidf_with_title_results_ottqa_val"
   ]
  },
  {
   "cell_type": "code",
   "execution_count": null,
   "metadata": {},
   "outputs": [],
   "source": [
    "# tabfact\n",
    "tfidf_with_title_results_tabfact_test = run_eval_for_top_ks(tfidf_with_title, \"tfidf_with_title\", top_ks, target_tabfact, \"tabfact\", \"test\")"
   ]
  },
  {
   "cell_type": "code",
   "execution_count": 21,
   "metadata": {},
   "outputs": [
    {
     "data": {
      "text/plain": [
       "[{'Table Retrieval Task': {'tabfact': TaskResultsDataModel(retrieval_performance=RetrievalPerformanceDataModel(k=1, accuracy=0.14257766648407544, precision=None, recall=None, retrieval_time=8.55206, avg_retrieval_time=0.00067), downstream_task_performance=DownstreamTaskPerformanceDataModel(task_name=None, scores=None), embedding_statistics=EmbeddingStatisticsDataModel(embedding_creation_duration=4.08156, avg_embedding_creation_duration=0.00241, embedding_size=2.81805, avg_embedding_size=0.00166))}},\n",
       " {'Table Retrieval Task': {'tabfact': TaskResultsDataModel(retrieval_performance=RetrievalPerformanceDataModel(k=5, accuracy=0.2662962673135613, precision=None, recall=None, retrieval_time=9.80528, avg_retrieval_time=0.00077), downstream_task_performance=DownstreamTaskPerformanceDataModel(task_name=None, scores=None), embedding_statistics=EmbeddingStatisticsDataModel(embedding_creation_duration=3.82019, avg_embedding_creation_duration=0.00225, embedding_size=0.00819, avg_embedding_size=0.0))}},\n",
       " {'Table Retrieval Task': {'tabfact': TaskResultsDataModel(retrieval_performance=RetrievalPerformanceDataModel(k=10, accuracy=0.3359417794819626, precision=None, recall=None, retrieval_time=9.91711, avg_retrieval_time=0.00078), downstream_task_performance=DownstreamTaskPerformanceDataModel(task_name=None, scores=None), embedding_statistics=EmbeddingStatisticsDataModel(embedding_creation_duration=3.86576, avg_embedding_creation_duration=0.00228, embedding_size=0.0041, avg_embedding_size=0.0))}},\n",
       " {'Table Retrieval Task': {'tabfact': TaskResultsDataModel(retrieval_performance=RetrievalPerformanceDataModel(k=25, accuracy=0.44041004773456455, precision=None, recall=None, retrieval_time=12.38966, avg_retrieval_time=0.00097), downstream_task_performance=DownstreamTaskPerformanceDataModel(task_name=None, scores=None), embedding_statistics=EmbeddingStatisticsDataModel(embedding_creation_duration=3.78447, avg_embedding_creation_duration=0.00223, embedding_size=0.0041, avg_embedding_size=0.0))}},\n",
       " {'Table Retrieval Task': {'tabfact': TaskResultsDataModel(retrieval_performance=RetrievalPerformanceDataModel(k=50, accuracy=0.534940136160889, precision=None, recall=None, retrieval_time=14.5588, avg_retrieval_time=0.00114), downstream_task_performance=DownstreamTaskPerformanceDataModel(task_name=None, scores=None), embedding_statistics=EmbeddingStatisticsDataModel(embedding_creation_duration=3.79606, avg_embedding_creation_duration=0.00224, embedding_size=0.0041, avg_embedding_size=0.0))}}]"
      ]
     },
     "execution_count": 21,
     "metadata": {},
     "output_type": "execute_result"
    }
   ],
   "source": [
    "tfidf_with_title_results_tabfact_test"
   ]
  },
  {
   "cell_type": "code",
   "execution_count": null,
   "metadata": {},
   "outputs": [],
   "source": [
    "# spider\n",
    "tfidf_with_title_results_spider_test = run_eval_for_top_ks(tfidf_with_title, \"tfidf_with_title\",top_ks, target_spider, \"spider\", \"test\")"
   ]
  },
  {
   "cell_type": "code",
   "execution_count": 23,
   "metadata": {},
   "outputs": [
    {
     "data": {
      "text/plain": [
       "[{'Table Retrieval Task': {'spider-test': TaskResultsDataModel(retrieval_performance=RetrievalPerformanceDataModel(k=1, accuracy=0.6222636236609222, precision=None, recall=None, retrieval_time=1.3334, avg_retrieval_time=0.00062), downstream_task_performance=DownstreamTaskPerformanceDataModel(task_name=None, scores=None), embedding_statistics=EmbeddingStatisticsDataModel(embedding_creation_duration=3.58084, avg_embedding_creation_duration=0.01989, embedding_size=8.03635, avg_embedding_size=0.04465))}},\n",
       " {'Table Retrieval Task': {'spider-test': TaskResultsDataModel(retrieval_performance=RetrievalPerformanceDataModel(k=5, accuracy=0.832324173265021, precision=None, recall=None, retrieval_time=1.40496, avg_retrieval_time=0.00065), downstream_task_performance=DownstreamTaskPerformanceDataModel(task_name=None, scores=None), embedding_statistics=EmbeddingStatisticsDataModel(embedding_creation_duration=3.20422, avg_embedding_creation_duration=0.0178, embedding_size=0.00819, avg_embedding_size=5e-05))}},\n",
       " {'Table Retrieval Task': {'spider-test': TaskResultsDataModel(retrieval_performance=RetrievalPerformanceDataModel(k=10, accuracy=0.856078248719143, precision=None, recall=None, retrieval_time=1.46818, avg_retrieval_time=0.00068), downstream_task_performance=DownstreamTaskPerformanceDataModel(task_name=None, scores=None), embedding_statistics=EmbeddingStatisticsDataModel(embedding_creation_duration=3.21731, avg_embedding_creation_duration=0.01787, embedding_size=0.0041, avg_embedding_size=2e-05))}},\n",
       " {'Table Retrieval Task': {'spider-test': TaskResultsDataModel(retrieval_performance=RetrievalPerformanceDataModel(k=25, accuracy=0.8737773637633908, precision=None, recall=None, retrieval_time=1.60557, avg_retrieval_time=0.00075), downstream_task_performance=DownstreamTaskPerformanceDataModel(task_name=None, scores=None), embedding_statistics=EmbeddingStatisticsDataModel(embedding_creation_duration=3.24987, avg_embedding_creation_duration=0.01805, embedding_size=0.0, avg_embedding_size=0.0))}},\n",
       " {'Table Retrieval Task': {'spider-test': TaskResultsDataModel(retrieval_performance=RetrievalPerformanceDataModel(k=50, accuracy=0.8789007918025151, precision=None, recall=None, retrieval_time=1.67033, avg_retrieval_time=0.00078), downstream_task_performance=DownstreamTaskPerformanceDataModel(task_name=None, scores=None), embedding_statistics=EmbeddingStatisticsDataModel(embedding_creation_duration=3.24054, avg_embedding_creation_duration=0.018, embedding_size=0.00819, avg_embedding_size=5e-05))}}]"
      ]
     },
     "execution_count": 23,
     "metadata": {},
     "output_type": "execute_result"
    }
   ],
   "source": [
    "tfidf_with_title_results_spider_test"
   ]
  },
  {
   "cell_type": "code",
   "execution_count": null,
   "metadata": {},
   "outputs": [],
   "source": [
    "# bird\n",
    "tfidf_with_title_results_bird_val = run_eval_for_top_ks(tfidf_with_title, \"tfidf_with_title\", top_ks, target_bird, \"bird\", \"validation\")"
   ]
  },
  {
   "cell_type": "code",
   "execution_count": null,
   "metadata": {},
   "outputs": [],
   "source": [
    "tfidf_with_title_results_bird_val"
   ]
  },
  {
   "cell_type": "markdown",
   "metadata": {},
   "source": [
    "# TFIDF without Title (Done)"
   ]
  },
  {
   "cell_type": "code",
   "execution_count": 5,
   "metadata": {},
   "outputs": [],
   "source": [
    "from target_benchmark.retrievers import OTTQARetriever\n",
    "tfidf_no_title = OTTQARetriever(encoding=\"tfidf\", withtitle=False)"
   ]
  },
  {
   "cell_type": "code",
   "execution_count": null,
   "metadata": {},
   "outputs": [],
   "source": [
    "# fetaqa\n",
    "tfidf_no_title_results_fetaqa_test = run_eval_for_top_ks(tfidf_no_title, \"tfidf_no_title\", top_ks, target_fetaqa, \"fetaqa\", \"test\")"
   ]
  },
  {
   "cell_type": "code",
   "execution_count": 7,
   "metadata": {},
   "outputs": [
    {
     "data": {
      "text/plain": [
       "[{'Table Retrieval Task': {'fetaqa': TaskResultsDataModel(retrieval_performance=RetrievalPerformanceDataModel(k=1, accuracy=0.028457314028956564, precision=None, recall=None, retrieval_time=1.342, avg_retrieval_time=0.00067), downstream_task_performance=DownstreamTaskPerformanceDataModel(task_name=None, scores=None), embedding_statistics=EmbeddingStatisticsDataModel(embedding_creation_duration=4.23366, avg_embedding_creation_duration=0.00211, embedding_size=205.14816, avg_embedding_size=0.10242))}},\n",
       " {'Table Retrieval Task': {'fetaqa': TaskResultsDataModel(retrieval_performance=RetrievalPerformanceDataModel(k=5, accuracy=0.06140788816774838, precision=None, recall=None, retrieval_time=1.37267, avg_retrieval_time=0.00069), downstream_task_performance=DownstreamTaskPerformanceDataModel(task_name=None, scores=None), embedding_statistics=EmbeddingStatisticsDataModel(embedding_creation_duration=3.92332, avg_embedding_creation_duration=0.00196, embedding_size=0.0, avg_embedding_size=0.0))}},\n",
       " {'Table Retrieval Task': {'fetaqa': TaskResultsDataModel(retrieval_performance=RetrievalPerformanceDataModel(k=10, accuracy=0.08337493759360959, precision=None, recall=None, retrieval_time=1.43486, avg_retrieval_time=0.00072), downstream_task_performance=DownstreamTaskPerformanceDataModel(task_name=None, scores=None), embedding_statistics=EmbeddingStatisticsDataModel(embedding_creation_duration=3.93543, avg_embedding_creation_duration=0.00196, embedding_size=0.0041, avg_embedding_size=0.0))}},\n",
       " {'Table Retrieval Task': {'fetaqa': TaskResultsDataModel(retrieval_performance=RetrievalPerformanceDataModel(k=25, accuracy=0.12631053419870195, precision=None, recall=None, retrieval_time=1.60131, avg_retrieval_time=0.0008), downstream_task_performance=DownstreamTaskPerformanceDataModel(task_name=None, scores=None), embedding_statistics=EmbeddingStatisticsDataModel(embedding_creation_duration=3.9806, avg_embedding_creation_duration=0.00199, embedding_size=0.00819, avg_embedding_size=0.0))}},\n",
       " {'Table Retrieval Task': {'fetaqa': TaskResultsDataModel(retrieval_performance=RetrievalPerformanceDataModel(k=50, accuracy=0.1727408886669995, precision=None, recall=None, retrieval_time=1.7883, avg_retrieval_time=0.00089), downstream_task_performance=DownstreamTaskPerformanceDataModel(task_name=None, scores=None), embedding_statistics=EmbeddingStatisticsDataModel(embedding_creation_duration=3.922, avg_embedding_creation_duration=0.00196, embedding_size=0.0, avg_embedding_size=0.0))}}]"
      ]
     },
     "execution_count": 7,
     "metadata": {},
     "output_type": "execute_result"
    }
   ],
   "source": [
    "tfidf_no_title_results_fetaqa_test"
   ]
  },
  {
   "cell_type": "code",
   "execution_count": null,
   "metadata": {},
   "outputs": [],
   "source": [
    "# ottqa\n",
    "tfidf_no_title_results_ottqa_val = run_eval_for_top_ks(tfidf_no_title, \"tfidf_no_title\", top_ks, target_ottqa, \"ottqa\", \"validation\")"
   ]
  },
  {
   "cell_type": "code",
   "execution_count": 10,
   "metadata": {},
   "outputs": [
    {
     "data": {
      "text/plain": [
       "[{'Table Retrieval Task': {'ottqa': TaskResultsDataModel(retrieval_performance=RetrievalPerformanceDataModel(k=1, accuracy=0.15537488708220415, precision=None, recall=None, retrieval_time=1.74111, avg_retrieval_time=0.00079), downstream_task_performance=DownstreamTaskPerformanceDataModel(task_name=None, scores=None), embedding_statistics=EmbeddingStatisticsDataModel(embedding_creation_duration=3.29577, avg_embedding_creation_duration=0.00418, embedding_size=202.19494, avg_embedding_size=0.25627))}},\n",
       " {'Table Retrieval Task': {'ottqa': TaskResultsDataModel(retrieval_performance=RetrievalPerformanceDataModel(k=5, accuracy=0.3215898825654923, precision=None, recall=None, retrieval_time=2.21282, avg_retrieval_time=0.001), downstream_task_performance=DownstreamTaskPerformanceDataModel(task_name=None, scores=None), embedding_statistics=EmbeddingStatisticsDataModel(embedding_creation_duration=3.28245, avg_embedding_creation_duration=0.00416, embedding_size=0.0041, avg_embedding_size=1e-05))}},\n",
       " {'Table Retrieval Task': {'ottqa': TaskResultsDataModel(retrieval_performance=RetrievalPerformanceDataModel(k=10, accuracy=0.42999096657633246, precision=None, recall=None, retrieval_time=1.95239, avg_retrieval_time=0.00088), downstream_task_performance=DownstreamTaskPerformanceDataModel(task_name=None, scores=None), embedding_statistics=EmbeddingStatisticsDataModel(embedding_creation_duration=3.20138, avg_embedding_creation_duration=0.00406, embedding_size=0.0, avg_embedding_size=0.0))}},\n",
       " {'Table Retrieval Task': {'ottqa': TaskResultsDataModel(retrieval_performance=RetrievalPerformanceDataModel(k=25, accuracy=0.5718157181571816, precision=None, recall=None, retrieval_time=2.31592, avg_retrieval_time=0.00105), downstream_task_performance=DownstreamTaskPerformanceDataModel(task_name=None, scores=None), embedding_statistics=EmbeddingStatisticsDataModel(embedding_creation_duration=3.21598, avg_embedding_creation_duration=0.00408, embedding_size=0.0, avg_embedding_size=0.0))}},\n",
       " {'Table Retrieval Task': {'ottqa': TaskResultsDataModel(retrieval_performance=RetrievalPerformanceDataModel(k=50, accuracy=0.6458897922312556, precision=None, recall=None, retrieval_time=2.68703, avg_retrieval_time=0.00121), downstream_task_performance=DownstreamTaskPerformanceDataModel(task_name=None, scores=None), embedding_statistics=EmbeddingStatisticsDataModel(embedding_creation_duration=3.23233, avg_embedding_creation_duration=0.0041, embedding_size=0.0, avg_embedding_size=0.0))}}]"
      ]
     },
     "execution_count": 10,
     "metadata": {},
     "output_type": "execute_result"
    }
   ],
   "source": [
    "tfidf_no_title_results_ottqa_val"
   ]
  },
  {
   "cell_type": "code",
   "execution_count": null,
   "metadata": {},
   "outputs": [],
   "source": [
    "# tabfact\n",
    "tfidf_no_title_results_tabfact_test = run_eval_for_top_ks(tfidf_no_title, \"tfidf_no_title\", top_ks, target_tabfact, \"tabfact\", \"test\")"
   ]
  },
  {
   "cell_type": "code",
   "execution_count": 12,
   "metadata": {},
   "outputs": [
    {
     "data": {
      "text/plain": [
       "[{'Table Retrieval Task': {'tabfact': TaskResultsDataModel(retrieval_performance=RetrievalPerformanceDataModel(k=1, accuracy=0.13514359496048203, precision=None, recall=None, retrieval_time=8.43449, avg_retrieval_time=0.00066), downstream_task_performance=DownstreamTaskPerformanceDataModel(task_name=None, scores=None), embedding_statistics=EmbeddingStatisticsDataModel(embedding_creation_duration=3.99381, avg_embedding_creation_duration=0.00236, embedding_size=204.34534, avg_embedding_size=0.12056))}},\n",
       " {'Table Retrieval Task': {'tabfact': TaskResultsDataModel(retrieval_performance=RetrievalPerformanceDataModel(k=5, accuracy=0.25588856718053055, precision=None, recall=None, retrieval_time=9.42741, avg_retrieval_time=0.00074), downstream_task_performance=DownstreamTaskPerformanceDataModel(task_name=None, scores=None), embedding_statistics=EmbeddingStatisticsDataModel(embedding_creation_duration=3.71481, avg_embedding_creation_duration=0.00219, embedding_size=0.0, avg_embedding_size=0.0))}},\n",
       " {'Table Retrieval Task': {'tabfact': TaskResultsDataModel(retrieval_performance=RetrievalPerformanceDataModel(k=10, accuracy=0.3218561702793646, precision=None, recall=None, retrieval_time=9.86229, avg_retrieval_time=0.00077), downstream_task_performance=DownstreamTaskPerformanceDataModel(task_name=None, scores=None), embedding_statistics=EmbeddingStatisticsDataModel(embedding_creation_duration=3.76888, avg_embedding_creation_duration=0.00222, embedding_size=0.0, avg_embedding_size=0.0))}},\n",
       " {'Table Retrieval Task': {'tabfact': TaskResultsDataModel(retrieval_performance=RetrievalPerformanceDataModel(k=25, accuracy=0.4238985836137413, precision=None, recall=None, retrieval_time=12.17604, avg_retrieval_time=0.00095), downstream_task_performance=DownstreamTaskPerformanceDataModel(task_name=None, scores=None), embedding_statistics=EmbeddingStatisticsDataModel(embedding_creation_duration=3.76481, avg_embedding_creation_duration=0.00222, embedding_size=0.0, avg_embedding_size=0.0))}},\n",
       " {'Table Retrieval Task': {'tabfact': TaskResultsDataModel(retrieval_performance=RetrievalPerformanceDataModel(k=50, accuracy=0.5220283277251742, precision=None, recall=None, retrieval_time=14.45224, avg_retrieval_time=0.00113), downstream_task_performance=DownstreamTaskPerformanceDataModel(task_name=None, scores=None), embedding_statistics=EmbeddingStatisticsDataModel(embedding_creation_duration=3.85746, avg_embedding_creation_duration=0.00228, embedding_size=0.0041, avg_embedding_size=0.0))}}]"
      ]
     },
     "execution_count": 12,
     "metadata": {},
     "output_type": "execute_result"
    }
   ],
   "source": [
    "tfidf_no_title_results_tabfact_test"
   ]
  },
  {
   "cell_type": "code",
   "execution_count": null,
   "metadata": {},
   "outputs": [],
   "source": [
    "# spider\n",
    "tfidf_no_title_results_spider_test = run_eval_for_top_ks(tfidf_no_title, \"tfidf_no_title\", top_ks, target_spider, \"spider\", \"test\")"
   ]
  },
  {
   "cell_type": "code",
   "execution_count": 14,
   "metadata": {},
   "outputs": [
    {
     "data": {
      "text/plain": [
       "[{'Table Retrieval Task': {'spider-test': TaskResultsDataModel(retrieval_performance=RetrievalPerformanceDataModel(k=1, accuracy=0.4918490917559385, precision=None, recall=None, retrieval_time=1.82682, avg_retrieval_time=0.00085), downstream_task_performance=DownstreamTaskPerformanceDataModel(task_name=None, scores=None), embedding_statistics=EmbeddingStatisticsDataModel(embedding_creation_duration=3.48766, avg_embedding_creation_duration=0.01938, embedding_size=209.87494, avg_embedding_size=1.16597))}},\n",
       " {'Table Retrieval Task': {'spider-test': TaskResultsDataModel(retrieval_performance=RetrievalPerformanceDataModel(k=5, accuracy=0.6893339543549138, precision=None, recall=None, retrieval_time=1.44674, avg_retrieval_time=0.00067), downstream_task_performance=DownstreamTaskPerformanceDataModel(task_name=None, scores=None), embedding_statistics=EmbeddingStatisticsDataModel(embedding_creation_duration=3.23721, avg_embedding_creation_duration=0.01798, embedding_size=0.0, avg_embedding_size=0.0))}},\n",
       " {'Table Retrieval Task': {'spider-test': TaskResultsDataModel(retrieval_performance=RetrievalPerformanceDataModel(k=10, accuracy=0.7158826269212856, precision=None, recall=None, retrieval_time=1.94206, avg_retrieval_time=0.0009), downstream_task_performance=DownstreamTaskPerformanceDataModel(task_name=None, scores=None), embedding_statistics=EmbeddingStatisticsDataModel(embedding_creation_duration=3.27102, avg_embedding_creation_duration=0.01817, embedding_size=0.0041, avg_embedding_size=2e-05))}},\n",
       " {'Table Retrieval Task': {'spider-test': TaskResultsDataModel(retrieval_performance=RetrievalPerformanceDataModel(k=25, accuracy=0.744294364229157, precision=None, recall=None, retrieval_time=1.5701, avg_retrieval_time=0.00073), downstream_task_performance=DownstreamTaskPerformanceDataModel(task_name=None, scores=None), embedding_statistics=EmbeddingStatisticsDataModel(embedding_creation_duration=3.2074, avg_embedding_creation_duration=0.01782, embedding_size=0.0, avg_embedding_size=0.0))}},\n",
       " {'Table Retrieval Task': {'spider-test': TaskResultsDataModel(retrieval_performance=RetrievalPerformanceDataModel(k=50, accuracy=0.7564042850489054, precision=None, recall=None, retrieval_time=1.67829, avg_retrieval_time=0.00078), downstream_task_performance=DownstreamTaskPerformanceDataModel(task_name=None, scores=None), embedding_statistics=EmbeddingStatisticsDataModel(embedding_creation_duration=3.21098, avg_embedding_creation_duration=0.01784, embedding_size=0.0, avg_embedding_size=0.0))}}]"
      ]
     },
     "execution_count": 14,
     "metadata": {},
     "output_type": "execute_result"
    }
   ],
   "source": [
    "tfidf_no_title_results_spider_test"
   ]
  },
  {
   "cell_type": "code",
   "execution_count": null,
   "metadata": {},
   "outputs": [],
   "source": [
    "# bird\n",
    "tfidf_no_title_results_bird_val = run_eval_for_top_ks(tfidf_no_title, \"tfidf_no_title\", top_ks, target_bird, \"bird\", \"validation\")"
   ]
  },
  {
   "cell_type": "code",
   "execution_count": null,
   "metadata": {},
   "outputs": [],
   "source": [
    "tfidf_no_title_results_bird_val"
   ]
  },
  {
   "cell_type": "markdown",
   "metadata": {},
   "source": [
    "# HNSW OpenAI (Done)"
   ]
  },
  {
   "cell_type": "code",
   "execution_count": 4,
   "metadata": {},
   "outputs": [],
   "source": [
    "from target_benchmark.retrievers import HNSWOpenAIEmbeddingRetriever\n",
    "hnsw_openai = HNSWOpenAIEmbeddingRetriever(num_rows=100)"
   ]
  },
  {
   "cell_type": "code",
   "execution_count": 5,
   "metadata": {},
   "outputs": [
    {
     "name": "stderr",
     "output_type": "stream",
     "text": [
      "Retrieving Tables for fetaqa...: 100%|██████████| 2003/2003 [04:59<00:00,  6.70it/s]\n"
     ]
    },
    {
     "name": "stdout",
     "output_type": "stream",
     "text": [
      "{'Table Retrieval Task': {'fetaqa': TaskResultsDataModel(retrieval_performance=RetrievalPerformanceDataModel(k=1, accuracy=0.42236645032451325, precision=None, recall=None, retrieval_time=34.79087, avg_retrieval_time=0.01737), downstream_task_performance=DownstreamTaskPerformanceDataModel(task_name=None, scores=None), embedding_statistics=EmbeddingStatisticsDataModel(embedding_creation_duration=4e-05, avg_embedding_creation_duration=0.0, embedding_size=0.0, avg_embedding_size=0.0))}}\n"
     ]
    },
    {
     "name": "stderr",
     "output_type": "stream",
     "text": [
      "Retrieving Tables for fetaqa...: 100%|██████████| 2003/2003 [04:57<00:00,  6.73it/s]\n"
     ]
    },
    {
     "name": "stdout",
     "output_type": "stream",
     "text": [
      "{'Table Retrieval Task': {'fetaqa': TaskResultsDataModel(retrieval_performance=RetrievalPerformanceDataModel(k=5, accuracy=0.6425361957064404, precision=None, recall=None, retrieval_time=34.3127, avg_retrieval_time=0.01713), downstream_task_performance=DownstreamTaskPerformanceDataModel(task_name=None, scores=None), embedding_statistics=EmbeddingStatisticsDataModel(embedding_creation_duration=4e-05, avg_embedding_creation_duration=0.0, embedding_size=0.0, avg_embedding_size=0.0))}}\n"
     ]
    },
    {
     "name": "stderr",
     "output_type": "stream",
     "text": [
      "Retrieving Tables for fetaqa...: 100%|██████████| 2003/2003 [05:28<00:00,  6.09it/s]\n"
     ]
    },
    {
     "name": "stdout",
     "output_type": "stream",
     "text": [
      "{'Table Retrieval Task': {'fetaqa': TaskResultsDataModel(retrieval_performance=RetrievalPerformanceDataModel(k=10, accuracy=0.7224163754368448, precision=None, recall=None, retrieval_time=49.65952, avg_retrieval_time=0.02479), downstream_task_performance=DownstreamTaskPerformanceDataModel(task_name=None, scores=None), embedding_statistics=EmbeddingStatisticsDataModel(embedding_creation_duration=3e-05, avg_embedding_creation_duration=0.0, embedding_size=0.0, avg_embedding_size=0.0))}}\n"
     ]
    },
    {
     "name": "stderr",
     "output_type": "stream",
     "text": [
      "Retrieving Tables for fetaqa...: 100%|██████████| 2003/2003 [05:28<00:00,  6.11it/s]\n"
     ]
    },
    {
     "name": "stdout",
     "output_type": "stream",
     "text": [
      "{'Table Retrieval Task': {'fetaqa': TaskResultsDataModel(retrieval_performance=RetrievalPerformanceDataModel(k=25, accuracy=0.8272591113330005, precision=None, recall=None, retrieval_time=35.30908, avg_retrieval_time=0.01763), downstream_task_performance=DownstreamTaskPerformanceDataModel(task_name=None, scores=None), embedding_statistics=EmbeddingStatisticsDataModel(embedding_creation_duration=3e-05, avg_embedding_creation_duration=0.0, embedding_size=0.0, avg_embedding_size=0.0))}}\n"
     ]
    },
    {
     "name": "stderr",
     "output_type": "stream",
     "text": [
      "Retrieving Tables for fetaqa...: 100%|██████████| 2003/2003 [05:10<00:00,  6.45it/s]"
     ]
    },
    {
     "name": "stdout",
     "output_type": "stream",
     "text": [
      "{'Table Retrieval Task': {'fetaqa': TaskResultsDataModel(retrieval_performance=RetrievalPerformanceDataModel(k=50, accuracy=0.8851722416375437, precision=None, recall=None, retrieval_time=36.31675, avg_retrieval_time=0.01813), downstream_task_performance=DownstreamTaskPerformanceDataModel(task_name=None, scores=None), embedding_statistics=EmbeddingStatisticsDataModel(embedding_creation_duration=3e-05, avg_embedding_creation_duration=0.0, embedding_size=0.0, avg_embedding_size=0.0))}}\n"
     ]
    },
    {
     "name": "stderr",
     "output_type": "stream",
     "text": [
      "\n"
     ]
    }
   ],
   "source": [
    "# fetaqa\n",
    "hnsw_openai_results_fetaqa_test = run_eval_for_top_ks(hnsw_openai, \"hnsw_openai\", top_ks, target_fetaqa, \"fetaqa\", \"test\")"
   ]
  },
  {
   "cell_type": "code",
   "execution_count": 6,
   "metadata": {},
   "outputs": [
    {
     "data": {
      "text/plain": [
       "[{'Table Retrieval Task': {'fetaqa': TaskResultsDataModel(retrieval_performance=RetrievalPerformanceDataModel(k=1, accuracy=0.42236645032451325, precision=None, recall=None, retrieval_time=34.79087, avg_retrieval_time=0.01737), downstream_task_performance=DownstreamTaskPerformanceDataModel(task_name=None, scores=None), embedding_statistics=EmbeddingStatisticsDataModel(embedding_creation_duration=4e-05, avg_embedding_creation_duration=0.0, embedding_size=0.0, avg_embedding_size=0.0))}},\n",
       " {'Table Retrieval Task': {'fetaqa': TaskResultsDataModel(retrieval_performance=RetrievalPerformanceDataModel(k=5, accuracy=0.6425361957064404, precision=None, recall=None, retrieval_time=34.3127, avg_retrieval_time=0.01713), downstream_task_performance=DownstreamTaskPerformanceDataModel(task_name=None, scores=None), embedding_statistics=EmbeddingStatisticsDataModel(embedding_creation_duration=4e-05, avg_embedding_creation_duration=0.0, embedding_size=0.0, avg_embedding_size=0.0))}},\n",
       " {'Table Retrieval Task': {'fetaqa': TaskResultsDataModel(retrieval_performance=RetrievalPerformanceDataModel(k=10, accuracy=0.7224163754368448, precision=None, recall=None, retrieval_time=49.65952, avg_retrieval_time=0.02479), downstream_task_performance=DownstreamTaskPerformanceDataModel(task_name=None, scores=None), embedding_statistics=EmbeddingStatisticsDataModel(embedding_creation_duration=3e-05, avg_embedding_creation_duration=0.0, embedding_size=0.0, avg_embedding_size=0.0))}},\n",
       " {'Table Retrieval Task': {'fetaqa': TaskResultsDataModel(retrieval_performance=RetrievalPerformanceDataModel(k=25, accuracy=0.8272591113330005, precision=None, recall=None, retrieval_time=35.30908, avg_retrieval_time=0.01763), downstream_task_performance=DownstreamTaskPerformanceDataModel(task_name=None, scores=None), embedding_statistics=EmbeddingStatisticsDataModel(embedding_creation_duration=3e-05, avg_embedding_creation_duration=0.0, embedding_size=0.0, avg_embedding_size=0.0))}},\n",
       " {'Table Retrieval Task': {'fetaqa': TaskResultsDataModel(retrieval_performance=RetrievalPerformanceDataModel(k=50, accuracy=0.8851722416375437, precision=None, recall=None, retrieval_time=36.31675, avg_retrieval_time=0.01813), downstream_task_performance=DownstreamTaskPerformanceDataModel(task_name=None, scores=None), embedding_statistics=EmbeddingStatisticsDataModel(embedding_creation_duration=3e-05, avg_embedding_creation_duration=0.0, embedding_size=0.0, avg_embedding_size=0.0))}}]"
      ]
     },
     "execution_count": 6,
     "metadata": {},
     "output_type": "execute_result"
    }
   ],
   "source": [
    "hnsw_openai_results_fetaqa_test"
   ]
  },
  {
   "cell_type": "code",
   "execution_count": 7,
   "metadata": {},
   "outputs": [
    {
     "name": "stderr",
     "output_type": "stream",
     "text": [
      "8it [01:49, 13.75s/it]\n",
      "Retrieving Tables for ottqa...: 100%|██████████| 2214/2214 [05:10<00:00,  7.12it/s]\n"
     ]
    },
    {
     "name": "stdout",
     "output_type": "stream",
     "text": [
      "{'Table Retrieval Task': {'ottqa': TaskResultsDataModel(retrieval_performance=RetrievalPerformanceDataModel(k=1, accuracy=0.6644083107497741, precision=None, recall=None, retrieval_time=14.40323, avg_retrieval_time=0.00651), downstream_task_performance=DownstreamTaskPerformanceDataModel(task_name=None, scores=None), embedding_statistics=EmbeddingStatisticsDataModel(embedding_creation_duration=3.14826, avg_embedding_creation_duration=0.00399, embedding_size=5.0176, avg_embedding_size=0.00636))}}\n"
     ]
    },
    {
     "name": "stderr",
     "output_type": "stream",
     "text": [
      "Retrieving Tables for ottqa...: 100%|██████████| 2214/2214 [05:04<00:00,  7.26it/s]\n"
     ]
    },
    {
     "name": "stdout",
     "output_type": "stream",
     "text": [
      "{'Table Retrieval Task': {'ottqa': TaskResultsDataModel(retrieval_performance=RetrievalPerformanceDataModel(k=5, accuracy=0.9015356820234869, precision=None, recall=None, retrieval_time=14.46007, avg_retrieval_time=0.00653), downstream_task_performance=DownstreamTaskPerformanceDataModel(task_name=None, scores=None), embedding_statistics=EmbeddingStatisticsDataModel(embedding_creation_duration=3e-05, avg_embedding_creation_duration=0.0, embedding_size=0.0, avg_embedding_size=0.0))}}\n"
     ]
    },
    {
     "name": "stderr",
     "output_type": "stream",
     "text": [
      "Retrieving Tables for ottqa...: 100%|██████████| 2214/2214 [05:32<00:00,  6.65it/s]\n"
     ]
    },
    {
     "name": "stdout",
     "output_type": "stream",
     "text": [
      "{'Table Retrieval Task': {'ottqa': TaskResultsDataModel(retrieval_performance=RetrievalPerformanceDataModel(k=10, accuracy=0.9498644986449865, precision=None, recall=None, retrieval_time=25.10111, avg_retrieval_time=0.01134), downstream_task_performance=DownstreamTaskPerformanceDataModel(task_name=None, scores=None), embedding_statistics=EmbeddingStatisticsDataModel(embedding_creation_duration=3e-05, avg_embedding_creation_duration=0.0, embedding_size=0.0, avg_embedding_size=0.0))}}\n"
     ]
    },
    {
     "name": "stderr",
     "output_type": "stream",
     "text": [
      "Retrieving Tables for ottqa...: 100%|██████████| 2214/2214 [05:15<00:00,  7.03it/s]\n"
     ]
    },
    {
     "name": "stdout",
     "output_type": "stream",
     "text": [
      "{'Table Retrieval Task': {'ottqa': TaskResultsDataModel(retrieval_performance=RetrievalPerformanceDataModel(k=25, accuracy=0.9832881662149955, precision=None, recall=None, retrieval_time=14.55493, avg_retrieval_time=0.00657), downstream_task_performance=DownstreamTaskPerformanceDataModel(task_name=None, scores=None), embedding_statistics=EmbeddingStatisticsDataModel(embedding_creation_duration=3e-05, avg_embedding_creation_duration=0.0, embedding_size=0.0, avg_embedding_size=0.0))}}\n"
     ]
    },
    {
     "name": "stderr",
     "output_type": "stream",
     "text": [
      "Retrieving Tables for ottqa...: 100%|██████████| 2214/2214 [05:11<00:00,  7.12it/s]"
     ]
    },
    {
     "name": "stdout",
     "output_type": "stream",
     "text": [
      "{'Table Retrieval Task': {'ottqa': TaskResultsDataModel(retrieval_performance=RetrievalPerformanceDataModel(k=50, accuracy=0.993676603432701, precision=None, recall=None, retrieval_time=14.50772, avg_retrieval_time=0.00655), downstream_task_performance=DownstreamTaskPerformanceDataModel(task_name=None, scores=None), embedding_statistics=EmbeddingStatisticsDataModel(embedding_creation_duration=3e-05, avg_embedding_creation_duration=0.0, embedding_size=0.0, avg_embedding_size=0.0))}}\n"
     ]
    },
    {
     "name": "stderr",
     "output_type": "stream",
     "text": [
      "\n"
     ]
    }
   ],
   "source": [
    "# ottqa\n",
    "hnsw_openai_results_ottqa_val = run_eval_for_top_ks(hnsw_openai, \"hnsw_openai\", top_ks, target_ottqa, \"ottqa\", \"validation\")"
   ]
  },
  {
   "cell_type": "code",
   "execution_count": 8,
   "metadata": {},
   "outputs": [
    {
     "data": {
      "text/plain": [
       "[{'Table Retrieval Task': {'ottqa': TaskResultsDataModel(retrieval_performance=RetrievalPerformanceDataModel(k=1, accuracy=0.6644083107497741, precision=None, recall=None, retrieval_time=14.40323, avg_retrieval_time=0.00651), downstream_task_performance=DownstreamTaskPerformanceDataModel(task_name=None, scores=None), embedding_statistics=EmbeddingStatisticsDataModel(embedding_creation_duration=3.14826, avg_embedding_creation_duration=0.00399, embedding_size=5.0176, avg_embedding_size=0.00636))}},\n",
       " {'Table Retrieval Task': {'ottqa': TaskResultsDataModel(retrieval_performance=RetrievalPerformanceDataModel(k=5, accuracy=0.9015356820234869, precision=None, recall=None, retrieval_time=14.46007, avg_retrieval_time=0.00653), downstream_task_performance=DownstreamTaskPerformanceDataModel(task_name=None, scores=None), embedding_statistics=EmbeddingStatisticsDataModel(embedding_creation_duration=3e-05, avg_embedding_creation_duration=0.0, embedding_size=0.0, avg_embedding_size=0.0))}},\n",
       " {'Table Retrieval Task': {'ottqa': TaskResultsDataModel(retrieval_performance=RetrievalPerformanceDataModel(k=10, accuracy=0.9498644986449865, precision=None, recall=None, retrieval_time=25.10111, avg_retrieval_time=0.01134), downstream_task_performance=DownstreamTaskPerformanceDataModel(task_name=None, scores=None), embedding_statistics=EmbeddingStatisticsDataModel(embedding_creation_duration=3e-05, avg_embedding_creation_duration=0.0, embedding_size=0.0, avg_embedding_size=0.0))}},\n",
       " {'Table Retrieval Task': {'ottqa': TaskResultsDataModel(retrieval_performance=RetrievalPerformanceDataModel(k=25, accuracy=0.9832881662149955, precision=None, recall=None, retrieval_time=14.55493, avg_retrieval_time=0.00657), downstream_task_performance=DownstreamTaskPerformanceDataModel(task_name=None, scores=None), embedding_statistics=EmbeddingStatisticsDataModel(embedding_creation_duration=3e-05, avg_embedding_creation_duration=0.0, embedding_size=0.0, avg_embedding_size=0.0))}},\n",
       " {'Table Retrieval Task': {'ottqa': TaskResultsDataModel(retrieval_performance=RetrievalPerformanceDataModel(k=50, accuracy=0.993676603432701, precision=None, recall=None, retrieval_time=14.50772, avg_retrieval_time=0.00655), downstream_task_performance=DownstreamTaskPerformanceDataModel(task_name=None, scores=None), embedding_statistics=EmbeddingStatisticsDataModel(embedding_creation_duration=3e-05, avg_embedding_creation_duration=0.0, embedding_size=0.0, avg_embedding_size=0.0))}}]"
      ]
     },
     "execution_count": 8,
     "metadata": {},
     "output_type": "execute_result"
    }
   ],
   "source": [
    "hnsw_openai_results_ottqa_val"
   ]
  },
  {
   "cell_type": "code",
   "execution_count": 9,
   "metadata": {},
   "outputs": [
    {
     "name": "stderr",
     "output_type": "stream",
     "text": [
      "17it [03:57, 13.95s/it]\n",
      "Retrieving Tables for tabfact...: 100%|██████████| 12779/12779 [31:36<00:00,  6.74it/s]\n"
     ]
    },
    {
     "name": "stdout",
     "output_type": "stream",
     "text": [
      "{'Table Retrieval Task': {'tabfact': TaskResultsDataModel(retrieval_performance=RetrievalPerformanceDataModel(k=1, accuracy=0.4923702950152594, precision=None, recall=None, retrieval_time=129.74416, avg_retrieval_time=0.01015), downstream_task_performance=DownstreamTaskPerformanceDataModel(task_name=None, scores=None), embedding_statistics=EmbeddingStatisticsDataModel(embedding_creation_duration=6.36884, avg_embedding_creation_duration=0.00376, embedding_size=10.7479, avg_embedding_size=0.00634))}}\n"
     ]
    },
    {
     "name": "stderr",
     "output_type": "stream",
     "text": [
      "Retrieving Tables for tabfact...: 100%|██████████| 12779/12779 [29:51<00:00,  7.13it/s]\n"
     ]
    },
    {
     "name": "stdout",
     "output_type": "stream",
     "text": [
      "{'Table Retrieval Task': {'tabfact': TaskResultsDataModel(retrieval_performance=RetrievalPerformanceDataModel(k=5, accuracy=0.7005242976758744, precision=None, recall=None, retrieval_time=127.69664, avg_retrieval_time=0.00999), downstream_task_performance=DownstreamTaskPerformanceDataModel(task_name=None, scores=None), embedding_statistics=EmbeddingStatisticsDataModel(embedding_creation_duration=3e-05, avg_embedding_creation_duration=0.0, embedding_size=0.0, avg_embedding_size=0.0))}}\n"
     ]
    },
    {
     "name": "stderr",
     "output_type": "stream",
     "text": [
      "Retrieving Tables for tabfact...: 100%|██████████| 12779/12779 [30:06<00:00,  7.07it/s]\n"
     ]
    },
    {
     "name": "stdout",
     "output_type": "stream",
     "text": [
      "{'Table Retrieval Task': {'tabfact': TaskResultsDataModel(retrieval_performance=RetrievalPerformanceDataModel(k=10, accuracy=0.7791689490570467, precision=None, recall=None, retrieval_time=117.32653, avg_retrieval_time=0.00918), downstream_task_performance=DownstreamTaskPerformanceDataModel(task_name=None, scores=None), embedding_statistics=EmbeddingStatisticsDataModel(embedding_creation_duration=4e-05, avg_embedding_creation_duration=0.0, embedding_size=0.0, avg_embedding_size=0.0))}}\n"
     ]
    },
    {
     "name": "stderr",
     "output_type": "stream",
     "text": [
      "Retrieving Tables for tabfact...: 100%|██████████| 12779/12779 [30:12<00:00,  7.05it/s]\n"
     ]
    },
    {
     "name": "stdout",
     "output_type": "stream",
     "text": [
      "{'Table Retrieval Task': {'tabfact': TaskResultsDataModel(retrieval_performance=RetrievalPerformanceDataModel(k=25, accuracy=0.8679082870334142, precision=None, recall=None, retrieval_time=125.59404, avg_retrieval_time=0.00983), downstream_task_performance=DownstreamTaskPerformanceDataModel(task_name=None, scores=None), embedding_statistics=EmbeddingStatisticsDataModel(embedding_creation_duration=3e-05, avg_embedding_creation_duration=0.0, embedding_size=0.0, avg_embedding_size=0.0))}}\n"
     ]
    },
    {
     "name": "stderr",
     "output_type": "stream",
     "text": [
      "Retrieving Tables for tabfact...: 100%|██████████| 12779/12779 [31:19<00:00,  6.80it/s]"
     ]
    },
    {
     "name": "stdout",
     "output_type": "stream",
     "text": [
      "{'Table Retrieval Task': {'tabfact': TaskResultsDataModel(retrieval_performance=RetrievalPerformanceDataModel(k=50, accuracy=0.9247202441505595, precision=None, recall=None, retrieval_time=122.10146, avg_retrieval_time=0.00955), downstream_task_performance=DownstreamTaskPerformanceDataModel(task_name=None, scores=None), embedding_statistics=EmbeddingStatisticsDataModel(embedding_creation_duration=3e-05, avg_embedding_creation_duration=0.0, embedding_size=0.0, avg_embedding_size=0.0))}}\n"
     ]
    },
    {
     "name": "stderr",
     "output_type": "stream",
     "text": [
      "\n"
     ]
    }
   ],
   "source": [
    "# tabfact\n",
    "hnsw_openai_results_tabfact_test = run_eval_for_top_ks(hnsw_openai, \"hnsw_openai\", top_ks, target_tabfact, \"tabfact\", \"test\")"
   ]
  },
  {
   "cell_type": "code",
   "execution_count": 10,
   "metadata": {},
   "outputs": [
    {
     "data": {
      "text/plain": [
       "[{'Table Retrieval Task': {'tabfact': TaskResultsDataModel(retrieval_performance=RetrievalPerformanceDataModel(k=1, accuracy=0.4923702950152594, precision=None, recall=None, retrieval_time=129.74416, avg_retrieval_time=0.01015), downstream_task_performance=DownstreamTaskPerformanceDataModel(task_name=None, scores=None), embedding_statistics=EmbeddingStatisticsDataModel(embedding_creation_duration=6.36884, avg_embedding_creation_duration=0.00376, embedding_size=10.7479, avg_embedding_size=0.00634))}},\n",
       " {'Table Retrieval Task': {'tabfact': TaskResultsDataModel(retrieval_performance=RetrievalPerformanceDataModel(k=5, accuracy=0.7005242976758744, precision=None, recall=None, retrieval_time=127.69664, avg_retrieval_time=0.00999), downstream_task_performance=DownstreamTaskPerformanceDataModel(task_name=None, scores=None), embedding_statistics=EmbeddingStatisticsDataModel(embedding_creation_duration=3e-05, avg_embedding_creation_duration=0.0, embedding_size=0.0, avg_embedding_size=0.0))}},\n",
       " {'Table Retrieval Task': {'tabfact': TaskResultsDataModel(retrieval_performance=RetrievalPerformanceDataModel(k=10, accuracy=0.7791689490570467, precision=None, recall=None, retrieval_time=117.32653, avg_retrieval_time=0.00918), downstream_task_performance=DownstreamTaskPerformanceDataModel(task_name=None, scores=None), embedding_statistics=EmbeddingStatisticsDataModel(embedding_creation_duration=4e-05, avg_embedding_creation_duration=0.0, embedding_size=0.0, avg_embedding_size=0.0))}},\n",
       " {'Table Retrieval Task': {'tabfact': TaskResultsDataModel(retrieval_performance=RetrievalPerformanceDataModel(k=25, accuracy=0.8679082870334142, precision=None, recall=None, retrieval_time=125.59404, avg_retrieval_time=0.00983), downstream_task_performance=DownstreamTaskPerformanceDataModel(task_name=None, scores=None), embedding_statistics=EmbeddingStatisticsDataModel(embedding_creation_duration=3e-05, avg_embedding_creation_duration=0.0, embedding_size=0.0, avg_embedding_size=0.0))}},\n",
       " {'Table Retrieval Task': {'tabfact': TaskResultsDataModel(retrieval_performance=RetrievalPerformanceDataModel(k=50, accuracy=0.9247202441505595, precision=None, recall=None, retrieval_time=122.10146, avg_retrieval_time=0.00955), downstream_task_performance=DownstreamTaskPerformanceDataModel(task_name=None, scores=None), embedding_statistics=EmbeddingStatisticsDataModel(embedding_creation_duration=3e-05, avg_embedding_creation_duration=0.0, embedding_size=0.0, avg_embedding_size=0.0))}}]"
      ]
     },
     "execution_count": 10,
     "metadata": {},
     "output_type": "execute_result"
    }
   ],
   "source": [
    "hnsw_openai_results_tabfact_test"
   ]
  },
  {
   "cell_type": "code",
   "execution_count": 8,
   "metadata": {},
   "outputs": [
    {
     "data": {
      "application/vnd.jupyter.widget-view+json": {
       "model_id": "a349a9cd708a4805b10901b3629fd1fe",
       "version_major": 2,
       "version_minor": 0
      },
      "text/plain": [
       "Fetching 132 files:   0%|          | 0/132 [00:00<?, ?it/s]"
      ]
     },
     "metadata": {},
     "output_type": "display_data"
    },
    {
     "name": "stderr",
     "output_type": "stream",
     "text": [
      "2it [00:30, 15.36s/it]\n",
      "Retrieving Tables for spider-test...: 100%|██████████| 2147/2147 [05:38<00:00,  6.34it/s]\n"
     ]
    },
    {
     "name": "stdout",
     "output_type": "stream",
     "text": [
      "{'Table Retrieval Task': {'spider-test': TaskResultsDataModel(retrieval_performance=RetrievalPerformanceDataModel(k=1, accuracy=0.768048439683279, precision=None, recall=None, retrieval_time=9.69517, avg_retrieval_time=0.00452), downstream_task_performance=DownstreamTaskPerformanceDataModel(task_name=None, scores=None), embedding_statistics=EmbeddingStatisticsDataModel(embedding_creation_duration=0.56571, avg_embedding_creation_duration=0.00314, embedding_size=1.15098, avg_embedding_size=0.00639))}}\n"
     ]
    },
    {
     "name": "stderr",
     "output_type": "stream",
     "text": [
      "Retrieving Tables for spider-test...: 100%|██████████| 2147/2147 [05:08<00:00,  6.97it/s]\n"
     ]
    },
    {
     "name": "stdout",
     "output_type": "stream",
     "text": [
      "{'Table Retrieval Task': {'spider-test': TaskResultsDataModel(retrieval_performance=RetrievalPerformanceDataModel(k=5, accuracy=0.9417792268281323, precision=None, recall=None, retrieval_time=9.73731, avg_retrieval_time=0.00454), downstream_task_performance=DownstreamTaskPerformanceDataModel(task_name=None, scores=None), embedding_statistics=EmbeddingStatisticsDataModel(embedding_creation_duration=4e-05, avg_embedding_creation_duration=0.0, embedding_size=0.0, avg_embedding_size=0.0))}}\n"
     ]
    },
    {
     "name": "stderr",
     "output_type": "stream",
     "text": [
      "Retrieving Tables for spider-test...: 100%|██████████| 2147/2147 [10:31<00:00,  3.40it/s]\n"
     ]
    },
    {
     "name": "stdout",
     "output_type": "stream",
     "text": [
      "{'Table Retrieval Task': {'spider-test': TaskResultsDataModel(retrieval_performance=RetrievalPerformanceDataModel(k=10, accuracy=0.9687936655798789, precision=None, recall=None, retrieval_time=15.72271, avg_retrieval_time=0.00732), downstream_task_performance=DownstreamTaskPerformanceDataModel(task_name=None, scores=None), embedding_statistics=EmbeddingStatisticsDataModel(embedding_creation_duration=3e-05, avg_embedding_creation_duration=0.0, embedding_size=0.0, avg_embedding_size=0.0))}}\n"
     ]
    },
    {
     "name": "stderr",
     "output_type": "stream",
     "text": [
      "Retrieving Tables for spider-test...: 100%|██████████| 2147/2147 [10:38<00:00,  3.36it/s]\n"
     ]
    },
    {
     "name": "stdout",
     "output_type": "stream",
     "text": [
      "{'Table Retrieval Task': {'spider-test': TaskResultsDataModel(retrieval_performance=RetrievalPerformanceDataModel(k=25, accuracy=0.9827666511411272, precision=None, recall=None, retrieval_time=9.92283, avg_retrieval_time=0.00462), downstream_task_performance=DownstreamTaskPerformanceDataModel(task_name=None, scores=None), embedding_statistics=EmbeddingStatisticsDataModel(embedding_creation_duration=3e-05, avg_embedding_creation_duration=0.0, embedding_size=0.0, avg_embedding_size=0.0))}}\n"
     ]
    },
    {
     "name": "stderr",
     "output_type": "stream",
     "text": [
      "Retrieving Tables for spider-test...: 100%|██████████| 2147/2147 [05:15<00:00,  6.81it/s]"
     ]
    },
    {
     "name": "stdout",
     "output_type": "stream",
     "text": [
      "{'Table Retrieval Task': {'spider-test': TaskResultsDataModel(retrieval_performance=RetrievalPerformanceDataModel(k=50, accuracy=0.9911504424778761, precision=None, recall=None, retrieval_time=9.86789, avg_retrieval_time=0.0046), downstream_task_performance=DownstreamTaskPerformanceDataModel(task_name=None, scores=None), embedding_statistics=EmbeddingStatisticsDataModel(embedding_creation_duration=3e-05, avg_embedding_creation_duration=0.0, embedding_size=0.0, avg_embedding_size=0.0))}}\n"
     ]
    },
    {
     "name": "stderr",
     "output_type": "stream",
     "text": [
      "\n"
     ]
    }
   ],
   "source": [
    "# spider\n",
    "hnsw_openai_results_spider_test = run_eval_for_top_ks(hnsw_openai, \"hnsw_openai\", top_ks, target_spider, \"spider\", \"test\")"
   ]
  },
  {
   "cell_type": "code",
   "execution_count": 9,
   "metadata": {},
   "outputs": [
    {
     "data": {
      "text/plain": [
       "[{'Table Retrieval Task': {'spider-test': TaskResultsDataModel(retrieval_performance=RetrievalPerformanceDataModel(k=1, accuracy=0.768048439683279, precision=None, recall=None, retrieval_time=9.69517, avg_retrieval_time=0.00452), downstream_task_performance=DownstreamTaskPerformanceDataModel(task_name=None, scores=None), embedding_statistics=EmbeddingStatisticsDataModel(embedding_creation_duration=0.56571, avg_embedding_creation_duration=0.00314, embedding_size=1.15098, avg_embedding_size=0.00639))}},\n",
       " {'Table Retrieval Task': {'spider-test': TaskResultsDataModel(retrieval_performance=RetrievalPerformanceDataModel(k=5, accuracy=0.9417792268281323, precision=None, recall=None, retrieval_time=9.73731, avg_retrieval_time=0.00454), downstream_task_performance=DownstreamTaskPerformanceDataModel(task_name=None, scores=None), embedding_statistics=EmbeddingStatisticsDataModel(embedding_creation_duration=4e-05, avg_embedding_creation_duration=0.0, embedding_size=0.0, avg_embedding_size=0.0))}},\n",
       " {'Table Retrieval Task': {'spider-test': TaskResultsDataModel(retrieval_performance=RetrievalPerformanceDataModel(k=10, accuracy=0.9687936655798789, precision=None, recall=None, retrieval_time=15.72271, avg_retrieval_time=0.00732), downstream_task_performance=DownstreamTaskPerformanceDataModel(task_name=None, scores=None), embedding_statistics=EmbeddingStatisticsDataModel(embedding_creation_duration=3e-05, avg_embedding_creation_duration=0.0, embedding_size=0.0, avg_embedding_size=0.0))}},\n",
       " {'Table Retrieval Task': {'spider-test': TaskResultsDataModel(retrieval_performance=RetrievalPerformanceDataModel(k=25, accuracy=0.9827666511411272, precision=None, recall=None, retrieval_time=9.92283, avg_retrieval_time=0.00462), downstream_task_performance=DownstreamTaskPerformanceDataModel(task_name=None, scores=None), embedding_statistics=EmbeddingStatisticsDataModel(embedding_creation_duration=3e-05, avg_embedding_creation_duration=0.0, embedding_size=0.0, avg_embedding_size=0.0))}},\n",
       " {'Table Retrieval Task': {'spider-test': TaskResultsDataModel(retrieval_performance=RetrievalPerformanceDataModel(k=50, accuracy=0.9911504424778761, precision=None, recall=None, retrieval_time=9.86789, avg_retrieval_time=0.0046), downstream_task_performance=DownstreamTaskPerformanceDataModel(task_name=None, scores=None), embedding_statistics=EmbeddingStatisticsDataModel(embedding_creation_duration=3e-05, avg_embedding_creation_duration=0.0, embedding_size=0.0, avg_embedding_size=0.0))}}]"
      ]
     },
     "execution_count": 9,
     "metadata": {},
     "output_type": "execute_result"
    }
   ],
   "source": [
    "hnsw_openai_results_spider_test"
   ]
  },
  {
   "cell_type": "code",
   "execution_count": null,
   "metadata": {},
   "outputs": [],
   "source": [
    "# Bird\n",
    "hnsw_openai_results_bird_val = run_eval_for_top_ks(hnsw_openai, \"hnsw_openai\",top_ks, target_bird, \"bird\", \"validation\")"
   ]
  },
  {
   "cell_type": "code",
   "execution_count": 6,
   "metadata": {},
   "outputs": [
    {
     "data": {
      "text/plain": [
       "[{'Table Retrieval Task': {'bird-validation': TaskResultsDataModel(retrieval_performance=RetrievalPerformanceDataModel(k=1, accuracy=0.9256844850065189, precision=None, recall=None, retrieval_time=6.34834, avg_retrieval_time=0.00414), downstream_task_performance=DownstreamTaskPerformanceDataModel(task_name=None, scores=None), embedding_statistics=EmbeddingStatisticsDataModel(embedding_creation_duration=4.09669, avg_embedding_creation_duration=0.05462, embedding_size=0.47923, avg_embedding_size=0.00639))}},\n",
       " {'Table Retrieval Task': {'bird-validation': TaskResultsDataModel(retrieval_performance=RetrievalPerformanceDataModel(k=5, accuracy=0.9915254237288136, precision=None, recall=None, retrieval_time=6.41543, avg_retrieval_time=0.00418), downstream_task_performance=DownstreamTaskPerformanceDataModel(task_name=None, scores=None), embedding_statistics=EmbeddingStatisticsDataModel(embedding_creation_duration=4e-05, avg_embedding_creation_duration=0.0, embedding_size=0.0, avg_embedding_size=0.0))}},\n",
       " {'Table Retrieval Task': {'bird-validation': TaskResultsDataModel(retrieval_performance=RetrievalPerformanceDataModel(k=10, accuracy=0.9986962190352021, precision=None, recall=None, retrieval_time=6.46084, avg_retrieval_time=0.00421), downstream_task_performance=DownstreamTaskPerformanceDataModel(task_name=None, scores=None), embedding_statistics=EmbeddingStatisticsDataModel(embedding_creation_duration=3e-05, avg_embedding_creation_duration=0.0, embedding_size=0.0, avg_embedding_size=0.0))}},\n",
       " {'Table Retrieval Task': {'bird-validation': TaskResultsDataModel(retrieval_performance=RetrievalPerformanceDataModel(k=25, accuracy=1.0, precision=None, recall=None, retrieval_time=6.43778, avg_retrieval_time=0.0042), downstream_task_performance=DownstreamTaskPerformanceDataModel(task_name=None, scores=None), embedding_statistics=EmbeddingStatisticsDataModel(embedding_creation_duration=3e-05, avg_embedding_creation_duration=0.0, embedding_size=0.0, avg_embedding_size=0.0))}},\n",
       " {'Table Retrieval Task': {'bird-validation': TaskResultsDataModel(retrieval_performance=RetrievalPerformanceDataModel(k=50, accuracy=1.0, precision=None, recall=None, retrieval_time=6.57199, avg_retrieval_time=0.00428), downstream_task_performance=DownstreamTaskPerformanceDataModel(task_name=None, scores=None), embedding_statistics=EmbeddingStatisticsDataModel(embedding_creation_duration=3e-05, avg_embedding_creation_duration=0.0, embedding_size=0.0, avg_embedding_size=0.0))}}]"
      ]
     },
     "execution_count": 6,
     "metadata": {},
     "output_type": "execute_result"
    }
   ],
   "source": [
    "hnsw_openai_results_bird_val"
   ]
  },
  {
   "cell_type": "code",
   "execution_count": null,
   "metadata": {},
   "outputs": [
    {
     "name": "stdout",
     "output_type": "stream",
     "text": [
      "{<Future at 0x7fd5b408ee10 state=finished returned int>: 1}\n",
      "733018741971166252529244672995227796776583345783942437386911678051742014907619818389889490523633966891088361470574959346120460571462260749066868322280895817921819178047106351622746089787222709001409723271535998886740900624008120633567081904814632812393533764463134148203902627783449817391855430335563732106041226371560673691183984708116601872233266074247493626304648260263767914583249791984053769482918833516091413131011123944919964273965579371981208614941585953495908535921540210708056885341387737215923345202544222865141850763901074317449693617326298168109535915635940121796253976420394712905525890085230066381155268301872764521970724361150250533240741250911370641578495445037349949847056446112243875919940177685220040160664042867777937760175315580842852772334361081793849764931709880797656009445214260838004008425745329486287217583337196739975624879209997958066918269289529173759400388462627027867023449158801888859657106016910393756105722308386102404609268566550368738720443422703712421937413064228232666730605742388335837146714118055611327514203299723649208298344877573265368313069762781039793226859829488229032564965635731481369752167217585943588854930073123415040389709513212962223638396059885947892393069120539629752913087293860710229309854604802321674065167382714715102476300146693438431833224964213369532024918771644330976993898734654636960222338307689812245659000814812860386873604770823862137671384853381092605916632447158620208279102871362522121737075798746297634021439677681885846906025762209900264981149145400622176046541895913713446104210012678561757945542108470975177238574885971783008091688989094139568186322074509855040235429441987295597788583656003164149522040284092940950997841383270838931250004957560959392148357213125798758355221152004876638131530060401294918574742158403027075892317311713232948774508045444387008377268956511566790988750066274475945057011826156359365664084922898519338475775136584478799585953802786369705215183341960068786541347670144480851661915646211142904738434781594527201521904996219737980968884208250267436396423981779399709186303960293407672554877346877193170897982220120029537710504050457313802321446995592434916524383256286111803049392908220573240027642399185919278901303127877945119916025120410258623536046989159056988455695917457277794657573586903543406892809506842341172324188614146189747989997492566982444418485858555939830994931765546646159933948646331181720254477223093614552419921625948715007606190469859917311824745902574837132432028609681828479562137848761003845549339456254612745501089667544053262976758087180329859844324991679303251520118205924889348811070368534970345655190383142368597970622914787824113699770230464815835988172741718871079971541784210688842581288010501153867757557117911157916834496975757069921359922064002354851413718493414469919988528124300509472377943419402710070938638340816072261896269139282992942967710326722487988387814927252378444344275944579731813013115789048970941051188880593003843626208600970181761638829477861608229607983725051555487136745926844381097959339538810272017727875770008857972396527027073630500507\n"
     ]
    }
   ],
   "source": [
    "from concurrent.futures import ThreadPoolExecutor\n",
    "import time\n",
    "with ThreadPoolExecutor(max_workers=1) as executor:\n",
    "    future = executor.submit(time.sleep, 323, 1235)\n",
    "    dic = {}\n",
    "    dic[future] = 1\n",
    "    print(dic)\n",
    "    print(future.result())"
   ]
  },
  {
   "cell_type": "code",
   "execution_count": 2,
   "metadata": {},
   "outputs": [
    {
     "data": {
      "text/plain": [
       "{<Future at 0x7fd5b4647740 state=finished returned int>: 1}"
      ]
     },
     "execution_count": 2,
     "metadata": {},
     "output_type": "execute_result"
    }
   ],
   "source": [
    "dic"
   ]
  },
  {
   "cell_type": "code",
   "execution_count": null,
   "metadata": {},
   "outputs": [],
   "source": []
  }
 ],
 "metadata": {
  "kernelspec": {
   "display_name": "target",
   "language": "python",
   "name": "python3"
  },
  "language_info": {
   "codemirror_mode": {
    "name": "ipython",
    "version": 3
   },
   "file_extension": ".py",
   "mimetype": "text/x-python",
   "name": "python",
   "nbconvert_exporter": "python",
   "pygments_lexer": "ipython3",
   "version": "3.12.3"
  }
 },
 "nbformat": 4,
 "nbformat_minor": 2
}

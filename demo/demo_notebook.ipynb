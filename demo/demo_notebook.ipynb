{
 "cells": [
  {
   "cell_type": "code",
   "execution_count": 9,
   "metadata": {},
   "outputs": [],
   "source": [
    "from target_benchmark.evaluators import TARGET\n",
    "from target_benchmark.retrievers import AbsCustomEmbeddingRetriever\n",
    "from target_benchmark.tasks import TableRetrievalTask\n",
    "from target_benchmark.dataset_loaders.TargetDatasetConfig import DEFAULT_SPIDER_TEST_DATASET_CONFIG"
   ]
  },
  {
   "cell_type": "code",
   "execution_count": 17,
   "metadata": {},
   "outputs": [],
   "source": [
    "class DummyRetriever(AbsCustomEmbeddingRetriever):\n",
    "    def retrieve(self, query, dataset_name, top_k, **kwargs):\n",
    "        return [(\"0\", \"0\")] * top_k\n",
    "\n",
    "    def embed_corpus(self, dataset_name, corpus):\n",
    "        corp_len = 0\n",
    "        for entry in corpus:\n",
    "            corp_len += 1\n",
    "        print(corp_len)\n",
    "        return"
   ]
  },
  {
   "cell_type": "code",
   "execution_count": 18,
   "metadata": {},
   "outputs": [],
   "source": [
    "spider_5_tables = DEFAULT_SPIDER_TEST_DATASET_CONFIG.model_copy()\n",
    "spider_5_tables.num_tables = 5"
   ]
  },
  {
   "cell_type": "code",
   "execution_count": 19,
   "metadata": {},
   "outputs": [
    {
     "data": {
      "application/vnd.jupyter.widget-view+json": {
       "model_id": "4507c6f5e2d6430eb3a7262b6e3d99da",
       "version_major": 2,
       "version_minor": 0
      },
      "text/plain": [
       "Fetching 132 files:   0%|          | 0/132 [00:00<?, ?it/s]"
      ]
     },
     "metadata": {},
     "output_type": "display_data"
    },
    {
     "name": "stdout",
     "output_type": "stream",
     "text": [
      "5\n"
     ]
    },
    {
     "name": "stderr",
     "output_type": "stream",
     "text": [
      "Retrieving Tables for spidert-test...: 100%|██████████| 2147/2147 [00:00<00:00, 15137.06it/s]\n"
     ]
    }
   ],
   "source": [
    "table_retrieval_task = TableRetrievalTask({\"spidert-test\": spider_5_tables})\n",
    "target = TARGET(table_retrieval_task)\n",
    "retriever = DummyRetriever()\n",
    "retrieval_results = target.run(retriever=retriever)"
   ]
  },
  {
   "cell_type": "code",
   "execution_count": 13,
   "metadata": {},
   "outputs": [
    {
     "data": {
      "text/plain": [
       "{'Table Retrieval Task': {'spidert-test': TaskResultsDataModel(retrieval_performance=RetrievalPerformanceDataModel(k=5, accuracy=0.0, precision=None, recall=0.0, retrieval_duration_process=0.02078, avg_retrieval_duration_process=1e-05, retrieval_duration_wall_clock=0.01985, avg_retrieval_duration_wall_clock=1e-05), downstream_task_performance=DownstreamTaskPerformanceDataModel(task_name=None, scores=None), embedding_statistics=EmbeddingStatisticsDataModel(embedding_creation_duration_process=1e-05, avg_embedding_creation_duration_process=0.0, embedding_creation_duration_wall_clock=0.0, avg_embedding_creation_duration_wall_clock=0.0, embedding_size=0.0, avg_embedding_size=0.0))}}"
      ]
     },
     "execution_count": 13,
     "metadata": {},
     "output_type": "execute_result"
    }
   ],
   "source": [
    "retrieval_results"
   ]
  },
  {
   "cell_type": "code",
   "execution_count": null,
   "metadata": {},
   "outputs": [],
   "source": []
  }
 ],
 "metadata": {
  "kernelspec": {
   "display_name": "target",
   "language": "python",
   "name": "python3"
  },
  "language_info": {
   "codemirror_mode": {
    "name": "ipython",
    "version": 3
   },
   "file_extension": ".py",
   "mimetype": "text/x-python",
   "name": "python",
   "nbconvert_exporter": "python",
   "pygments_lexer": "ipython3",
   "version": "3.12.3"
  }
 },
 "nbformat": 4,
 "nbformat_minor": 2
}

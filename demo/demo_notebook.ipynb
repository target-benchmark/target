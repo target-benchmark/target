{
 "cells": [
  {
   "cell_type": "code",
   "execution_count": 1,
   "metadata": {},
   "outputs": [
    {
     "name": "stderr",
     "output_type": "stream",
     "text": [
      "None of PyTorch, TensorFlow >= 2.0, or Flax have been found. Models won't be available and only tokenizers, configuration and file/data utilities can be used.\n"
     ]
    }
   ],
   "source": [
    "from target_benchmark.evaluators import TARGET\n",
    "from target_benchmark.retrievers import AbsCustomEmbeddingRetriever, HNSWOpenAIEmbeddingRetriever\n",
    "from target_benchmark.tasks import TableRetrievalTask\n",
    "from target_benchmark.dataset_loaders.TargetDatasetConfig import DEFAULT_SPIDER_TEST_DATASET_CONFIG"
   ]
  },
  {
   "cell_type": "code",
   "execution_count": 2,
   "metadata": {},
   "outputs": [],
   "source": [
    "class DummyRetriever(AbsCustomEmbeddingRetriever):\n",
    "    def retrieve(self, query, dataset_name, top_k, **kwargs):\n",
    "        return [(\"0\", \"0\")] * top_k\n",
    "\n",
    "    def embed_corpus(self, dataset_name, corpus):\n",
    "        corp_len = 0\n",
    "        for entry in corpus:\n",
    "            corp_len += 1\n",
    "        print(corp_len)\n",
    "        return"
   ]
  },
  {
   "cell_type": "code",
   "execution_count": 3,
   "metadata": {},
   "outputs": [],
   "source": [
    "spider_5_tables = DEFAULT_SPIDER_TEST_DATASET_CONFIG.model_copy()\n",
    "spider_5_tables.num_tables = 5"
   ]
  },
  {
   "cell_type": "code",
   "execution_count": 4,
   "metadata": {},
   "outputs": [],
   "source": [
    "# Optionally for using openai embeddings. \n",
    "# this should create corpus embeddings once and reuse it for later, but i don't have code to persist query embeddings yet. if it would be helpful, i can quickly try to add some query embedding persistence code.\n",
    "# retriever = HNSWOpenAIEmbeddingRetriever()\n",
    "retriever = DummyRetriever()"
   ]
  },
  {
   "cell_type": "code",
   "execution_count": 5,
   "metadata": {},
   "outputs": [
    {
     "data": {
      "application/vnd.jupyter.widget-view+json": {
       "model_id": "de7dfb9ff292447f979302ab087ac488",
       "version_major": 2,
       "version_minor": 0
      },
      "text/plain": [
       "Fetching 132 files:   0%|          | 0/132 [00:00<?, ?it/s]"
      ]
     },
     "metadata": {},
     "output_type": "display_data"
    },
    {
     "name": "stdout",
     "output_type": "stream",
     "text": [
      "5\n"
     ]
    },
    {
     "name": "stderr",
     "output_type": "stream",
     "text": [
      "Retrieving Tables for spidert-test...: 100%|██████████| 2147/2147 [00:00<00:00, 10968.34it/s]\n"
     ]
    }
   ],
   "source": [
    "table_retrieval_task = TableRetrievalTask({\"spidert-test\": spider_5_tables})\n",
    "target = TARGET(table_retrieval_task)\n",
    "retrieval_results = target.run(retriever=retriever)"
   ]
  },
  {
   "cell_type": "code",
   "execution_count": 6,
   "metadata": {},
   "outputs": [
    {
     "data": {
      "text/plain": [
       "{'Table Retrieval Task': {'spidert-test': TaskResultsDataModel(retrieval_performance=RetrievalPerformanceDataModel(k=5, accuracy=0.0, precision=None, recall=0.0, retrieval_duration_process=0.02657, avg_retrieval_duration_process=1e-05, retrieval_duration_wall_clock=0.02521, avg_retrieval_duration_wall_clock=1e-05), downstream_task_performance=DownstreamTaskPerformanceDataModel(task_name=None, scores=None), embedding_statistics=EmbeddingStatisticsDataModel(embedding_creation_duration_process=0.00034, avg_embedding_creation_duration_process=0.0, embedding_creation_duration_wall_clock=0.00032, avg_embedding_creation_duration_wall_clock=0.0, embedding_size=0.0, avg_embedding_size=0.0))}}"
      ]
     },
     "execution_count": 6,
     "metadata": {},
     "output_type": "execute_result"
    }
   ],
   "source": [
    "retrieval_results"
   ]
  },
  {
   "cell_type": "code",
   "execution_count": null,
   "metadata": {},
   "outputs": [],
   "source": []
  }
 ],
 "metadata": {
  "kernelspec": {
   "display_name": "target",
   "language": "python",
   "name": "python3"
  },
  "language_info": {
   "codemirror_mode": {
    "name": "ipython",
    "version": 3
   },
   "file_extension": ".py",
   "mimetype": "text/x-python",
   "name": "python",
   "nbconvert_exporter": "python",
   "pygments_lexer": "ipython3",
   "version": "3.12.3"
  }
 },
 "nbformat": 4,
 "nbformat_minor": 2
}
